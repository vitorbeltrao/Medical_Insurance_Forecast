{
  "nbformat": 4,
  "nbformat_minor": 0,
  "metadata": {
    "colab": {
      "name": "Projeto_MachineLearning_SeguroMedico.ipynb",
      "provenance": [],
      "collapsed_sections": [],
      "authorship_tag": "ABX9TyNAQxiqZ2lfHFtBbogeMaYT",
      "include_colab_link": true
    },
    "kernelspec": {
      "name": "python3",
      "display_name": "Python 3"
    },
    "language_info": {
      "name": "python"
    }
  },
  "cells": [
    {
      "cell_type": "markdown",
      "metadata": {
        "id": "view-in-github",
        "colab_type": "text"
      },
      "source": [
        "<a href=\"https://colab.research.google.com/github/vitorbeltrao/Medical_Insurance_Forecast/blob/main/Projeto_MachineLearning_SeguroMedico.ipynb\" target=\"_parent\"><img src=\"https://colab.research.google.com/assets/colab-badge.svg\" alt=\"Open In Colab\"/></a>"
      ]
    },
    {
      "cell_type": "markdown",
      "metadata": {
        "id": "f38JYGC29E4q"
      },
      "source": [
        "# Projeto de Machine Learning - Previsão de preço de seguro médico: uma abordagem bem completa\n",
        "\n",
        "Neste projeto, iremos analisar um projeto de ponta a ponta como cientistas de dados em uma empresa. Para essa tarefa, iremos seguir os seguintes passos:\n",
        "\n",
        "1. Analisar o panorama geral - Entendendo o problema do negócio;\n",
        "2. Obter os dados;\n",
        "3. Análise Exploratória dos dados;\n",
        "4. Limpeza e preparação dos dados;\n",
        "5. Selecionar e treinar um modelo de machine learning;\n",
        "6. Aperfeiçoar o modelo;\n",
        "7. Apresentar a solução.\n",
        "\n",
        "Vamos abordando cada passo descrito acima detalhadamente em tópicos. Vamos lá!"
      ]
    },
    {
      "cell_type": "markdown",
      "metadata": {
        "id": "r8fhASMUEEcx"
      },
      "source": [
        "## 1 - Analisar o Panorama Geral"
      ]
    },
    {
      "cell_type": "markdown",
      "metadata": {
        "id": "7X6bM-kpAVG0"
      },
      "source": [
        "### 1.1 - Abordar o problema\n",
        "\n",
        "Em primeiro lugar, você deve **entender a motivação do problema**. Você deve se perguntar e perguntar ao responsável **qual é exatamente o objetivo do negócio**? **Como a empresa espera usar e se beneficiar desse modelo**? Saber isso é importante para guiar a forma que você abordará o problema, quais algoritmos irá escolher, qual indicador de desempenho utilizará para avaliar seu modelo.\n",
        "\n",
        "No caso desse projeto, o objetivo do negócio é: **Prever o preço do seguro médico.**\n",
        "\n",
        "<center><img src=\"https://image.freepik.com/free-photo/health-benefits-claim-benefits-form-concept_53876-134044.jpg\" height=\"300\"></center>\n",
        "\n",
        "A empresa vai se beneficiar desse modelo, visto que, com ele em mãos, conseguirá fornecer um preço de seguro ao seus clientes de forma rápida, prática e assertiva, economizando uma das coisas mais importantes para uma empresa, dinheiro. A empresa pode também, usar o modelo para redefinir o preço do seguro de um cliente já existente, deixando de perder dinheiro também. **Você irá precisar de todas essas informações acima para prosseguir com a solução.**\n",
        "\n",
        "Com a posse desse conhecimento inicial, você deve ainda responder a outras perguntas como:\n",
        "* **Quais são as soluções/alternativas atuais (caso existam)?**\n",
        "* **Como você deve abordar este problema (aprendizado supervisionado/não supervisionado; online/offline; baseado em instância ou em modelo)?**\n",
        "* **Como o desempenho deve ser medido? Ele está alinhado com o objetivo do negócio?**\n",
        "* **Qual seria o desempenho mínimo necessário para alcançar o objetivo do negócio?**\n",
        "* **Você pode reutilizar experiências ou ferramentas de outros projetos similares?**\n",
        "* **Tem expertise humana disponível?**\n",
        "\n",
        "É claro que essas perguntas podem variar de projeto para projeto, podem ser colocadas outras questões além destas ou, nem todas essas listadas, precisam necessariamente serem respondidas. Não é uma receita de bolo, mas essas listadas costumam servir para a maioria dos projetos de ciência de dados.\n",
        "\n",
        "No caso desse projeto, claramente temos uma tarefa típica de **aprendizado supervisionado**, uma vez que há exemplos rotulados de treinamento. Além do mais, também é uma típica tarefa de **regressão**, pois, estamos tentando prever um valor contínuo. Em termos específicos, trata-se de um problema de **regressão linear múltipla univariada**. Por fim, podemos utilizar o sistema de aprendizagem **offline ou em batch com instância baseada em modelo**.\n",
        "\n",
        "\n",
        "\n"
      ]
    },
    {
      "cell_type": "markdown",
      "metadata": {
        "id": "fzG2jf8UEKzA"
      },
      "source": [
        "### 1.2 - Escolha uma medida de desempenho\n",
        "\n",
        "O próximo passo é escolher uma medida de desempenho. Um modelo de *Machine Learning* deve ser quantificável, seja em termos de desempenho ou precisão. No caso de modelos de regressão, vamos testar o desempenho do modelo em cima do nosso conjunto de validação e teste usando as métricas abaixo:\n",
        "\n",
        "* ***R2 Score -*** métrica popularmente usada para calcular a acurácia do seu modelo. Basicamente, calcula como o seu modelo se encaixa aos seus dados, quantificando a qualidade entre 0 e 1. No caso, a melhor pontuação que seu modelo pode atingir é 1.\n",
        "\n",
        "* ***Mean Absolut Error (MAE) -*** é a média absoluta do erro, representada pela média das somas dos erros individuais (distâncias entre pontos e retas).\n",
        "\n",
        "* ***Mean Squared Error (MSE) -*** é a média dos quadrados dos erros e provavelmente a métrica mais conhecida. Tende a penalizar exponencialmente os erros, tratando diferentemente erros pequenos e grandes."
      ]
    },
    {
      "cell_type": "markdown",
      "metadata": {
        "id": "Q0QyqLDUELCR"
      },
      "source": [
        "### 1.3 - Verifique as hipóteses\n",
        "\n",
        "Por último, uma boa prática é enumerar e verificar as hipóteses feitas até agora (por você ou por outros, assim fica fácil identificar os problemas logo de início). **Você não vai querer descobrir potenciais problemas após trabalhar semanas ou meses em um modelo equivocado.**\n",
        "\n",
        "<center><img src=\"https://image.freepik.com/free-vector/illustration-list_53876-28518.jpg\" height=\"300\"></center>"
      ]
    },
    {
      "cell_type": "markdown",
      "metadata": {
        "id": "T5NwxanJCJlE"
      },
      "source": [
        "## 2 - Obter os Dados\n",
        "\n",
        "Hora de colocar a mão na massa! Os dados desse projeto foram extraídos do [Kaggle](https://www.kaggle.com/).\n",
        "\n",
        "Em ambientes tradicionais, os dados estariam disponíveis em um banco de dados relacional (ou em algum outro data store) e distribuídos por várias tabelas/documentos/arquivos. Neste projeto as coisas são bem mais simples: Vamos fazer o download dos dados que estão em um formato csv e transformá-los em um dataframe pandas para começar a trabalhar!"
      ]
    },
    {
      "cell_type": "code",
      "metadata": {
        "id": "cC-HvNOf9EQT"
      },
      "source": [
        "# Importar os pacotes necessários.\n",
        "import warnings\n",
        "warnings.simplefilter(action='ignore')\n",
        "import pandas as pd\n",
        "import numpy as np\n",
        "import matplotlib.pyplot as plt\n",
        "import seaborn as sns\n",
        "\n",
        "# Código que transforma o csv em um dataframe pandas\n",
        "df = pd.read_csv(\"https://raw.githubusercontent.com/vitorbeltrao/Medical_Insurance_Forecast/main/data/insurance.csv\")"
      ],
      "execution_count": 1,
      "outputs": []
    },
    {
      "cell_type": "markdown",
      "metadata": {
        "id": "uGjEiIBvpA_T"
      },
      "source": [
        "### 2.1 - Uma rápida olhada na estrutura dos dados\n",
        "\n",
        "Antes de separar o conjunto em treino e teste e realizar uma análise exploratória mais aprofundada, vamos dar uma olhada rápida no nosso conjunto de dados.\n",
        "\n",
        "* Verificar as 5 primeiras linhas do conjunto de dados"
      ]
    },
    {
      "cell_type": "code",
      "metadata": {
        "id": "NuWgkJL59ESq",
        "colab": {
          "base_uri": "https://localhost:8080/",
          "height": 206
        },
        "outputId": "b58d99cf-30dd-4f14-9542-35c9c374cf47"
      },
      "source": [
        "# Verificar as 5 primeiras linhas do conjunto de dados\n",
        "df.head()"
      ],
      "execution_count": 2,
      "outputs": [
        {
          "output_type": "execute_result",
          "data": {
            "text/plain": [
              "   age     sex     bmi  children smoker     region      charges\n",
              "0   19  female  27.900         0    yes  southwest  16884.92400\n",
              "1   18    male  33.770         1     no  southeast   1725.55230\n",
              "2   28    male  33.000         3     no  southeast   4449.46200\n",
              "3   33    male  22.705         0     no  northwest  21984.47061\n",
              "4   32    male  28.880         0     no  northwest   3866.85520"
            ],
            "text/html": [
              "\n",
              "  <div id=\"df-4fc5a96d-61ad-455c-9f69-4f3dec5b8e54\">\n",
              "    <div class=\"colab-df-container\">\n",
              "      <div>\n",
              "<style scoped>\n",
              "    .dataframe tbody tr th:only-of-type {\n",
              "        vertical-align: middle;\n",
              "    }\n",
              "\n",
              "    .dataframe tbody tr th {\n",
              "        vertical-align: top;\n",
              "    }\n",
              "\n",
              "    .dataframe thead th {\n",
              "        text-align: right;\n",
              "    }\n",
              "</style>\n",
              "<table border=\"1\" class=\"dataframe\">\n",
              "  <thead>\n",
              "    <tr style=\"text-align: right;\">\n",
              "      <th></th>\n",
              "      <th>age</th>\n",
              "      <th>sex</th>\n",
              "      <th>bmi</th>\n",
              "      <th>children</th>\n",
              "      <th>smoker</th>\n",
              "      <th>region</th>\n",
              "      <th>charges</th>\n",
              "    </tr>\n",
              "  </thead>\n",
              "  <tbody>\n",
              "    <tr>\n",
              "      <th>0</th>\n",
              "      <td>19</td>\n",
              "      <td>female</td>\n",
              "      <td>27.900</td>\n",
              "      <td>0</td>\n",
              "      <td>yes</td>\n",
              "      <td>southwest</td>\n",
              "      <td>16884.92400</td>\n",
              "    </tr>\n",
              "    <tr>\n",
              "      <th>1</th>\n",
              "      <td>18</td>\n",
              "      <td>male</td>\n",
              "      <td>33.770</td>\n",
              "      <td>1</td>\n",
              "      <td>no</td>\n",
              "      <td>southeast</td>\n",
              "      <td>1725.55230</td>\n",
              "    </tr>\n",
              "    <tr>\n",
              "      <th>2</th>\n",
              "      <td>28</td>\n",
              "      <td>male</td>\n",
              "      <td>33.000</td>\n",
              "      <td>3</td>\n",
              "      <td>no</td>\n",
              "      <td>southeast</td>\n",
              "      <td>4449.46200</td>\n",
              "    </tr>\n",
              "    <tr>\n",
              "      <th>3</th>\n",
              "      <td>33</td>\n",
              "      <td>male</td>\n",
              "      <td>22.705</td>\n",
              "      <td>0</td>\n",
              "      <td>no</td>\n",
              "      <td>northwest</td>\n",
              "      <td>21984.47061</td>\n",
              "    </tr>\n",
              "    <tr>\n",
              "      <th>4</th>\n",
              "      <td>32</td>\n",
              "      <td>male</td>\n",
              "      <td>28.880</td>\n",
              "      <td>0</td>\n",
              "      <td>no</td>\n",
              "      <td>northwest</td>\n",
              "      <td>3866.85520</td>\n",
              "    </tr>\n",
              "  </tbody>\n",
              "</table>\n",
              "</div>\n",
              "      <button class=\"colab-df-convert\" onclick=\"convertToInteractive('df-4fc5a96d-61ad-455c-9f69-4f3dec5b8e54')\"\n",
              "              title=\"Convert this dataframe to an interactive table.\"\n",
              "              style=\"display:none;\">\n",
              "        \n",
              "  <svg xmlns=\"http://www.w3.org/2000/svg\" height=\"24px\"viewBox=\"0 0 24 24\"\n",
              "       width=\"24px\">\n",
              "    <path d=\"M0 0h24v24H0V0z\" fill=\"none\"/>\n",
              "    <path d=\"M18.56 5.44l.94 2.06.94-2.06 2.06-.94-2.06-.94-.94-2.06-.94 2.06-2.06.94zm-11 1L8.5 8.5l.94-2.06 2.06-.94-2.06-.94L8.5 2.5l-.94 2.06-2.06.94zm10 10l.94 2.06.94-2.06 2.06-.94-2.06-.94-.94-2.06-.94 2.06-2.06.94z\"/><path d=\"M17.41 7.96l-1.37-1.37c-.4-.4-.92-.59-1.43-.59-.52 0-1.04.2-1.43.59L10.3 9.45l-7.72 7.72c-.78.78-.78 2.05 0 2.83L4 21.41c.39.39.9.59 1.41.59.51 0 1.02-.2 1.41-.59l7.78-7.78 2.81-2.81c.8-.78.8-2.07 0-2.86zM5.41 20L4 18.59l7.72-7.72 1.47 1.35L5.41 20z\"/>\n",
              "  </svg>\n",
              "      </button>\n",
              "      \n",
              "  <style>\n",
              "    .colab-df-container {\n",
              "      display:flex;\n",
              "      flex-wrap:wrap;\n",
              "      gap: 12px;\n",
              "    }\n",
              "\n",
              "    .colab-df-convert {\n",
              "      background-color: #E8F0FE;\n",
              "      border: none;\n",
              "      border-radius: 50%;\n",
              "      cursor: pointer;\n",
              "      display: none;\n",
              "      fill: #1967D2;\n",
              "      height: 32px;\n",
              "      padding: 0 0 0 0;\n",
              "      width: 32px;\n",
              "    }\n",
              "\n",
              "    .colab-df-convert:hover {\n",
              "      background-color: #E2EBFA;\n",
              "      box-shadow: 0px 1px 2px rgba(60, 64, 67, 0.3), 0px 1px 3px 1px rgba(60, 64, 67, 0.15);\n",
              "      fill: #174EA6;\n",
              "    }\n",
              "\n",
              "    [theme=dark] .colab-df-convert {\n",
              "      background-color: #3B4455;\n",
              "      fill: #D2E3FC;\n",
              "    }\n",
              "\n",
              "    [theme=dark] .colab-df-convert:hover {\n",
              "      background-color: #434B5C;\n",
              "      box-shadow: 0px 1px 3px 1px rgba(0, 0, 0, 0.15);\n",
              "      filter: drop-shadow(0px 1px 2px rgba(0, 0, 0, 0.3));\n",
              "      fill: #FFFFFF;\n",
              "    }\n",
              "  </style>\n",
              "\n",
              "      <script>\n",
              "        const buttonEl =\n",
              "          document.querySelector('#df-4fc5a96d-61ad-455c-9f69-4f3dec5b8e54 button.colab-df-convert');\n",
              "        buttonEl.style.display =\n",
              "          google.colab.kernel.accessAllowed ? 'block' : 'none';\n",
              "\n",
              "        async function convertToInteractive(key) {\n",
              "          const element = document.querySelector('#df-4fc5a96d-61ad-455c-9f69-4f3dec5b8e54');\n",
              "          const dataTable =\n",
              "            await google.colab.kernel.invokeFunction('convertToInteractive',\n",
              "                                                     [key], {});\n",
              "          if (!dataTable) return;\n",
              "\n",
              "          const docLinkHtml = 'Like what you see? Visit the ' +\n",
              "            '<a target=\"_blank\" href=https://colab.research.google.com/notebooks/data_table.ipynb>data table notebook</a>'\n",
              "            + ' to learn more about interactive tables.';\n",
              "          element.innerHTML = '';\n",
              "          dataTable['output_type'] = 'display_data';\n",
              "          await google.colab.output.renderOutput(dataTable, element);\n",
              "          const docLink = document.createElement('div');\n",
              "          docLink.innerHTML = docLinkHtml;\n",
              "          element.appendChild(docLink);\n",
              "        }\n",
              "      </script>\n",
              "    </div>\n",
              "  </div>\n",
              "  "
            ]
          },
          "metadata": {},
          "execution_count": 2
        }
      ]
    },
    {
      "cell_type": "markdown",
      "metadata": {
        "id": "AmTtCzbHxn23"
      },
      "source": [
        "Cada linha representa um cliente da empresa que paga pelo serviço de seguro cujo valor está representado na coluna 'charges'. Essa variável será a nossa variável alvo ou dependente.\n",
        "\n",
        "O restante das colunas serão as nossas variáveis independentes que representam algumas características básicas dos clientes e que tentarão prever com precisão os valores da variável alvo 'charges'.\n",
        "\n",
        "* Verificar o tamanho, tipo e valores nulos dos dados"
      ]
    },
    {
      "cell_type": "code",
      "metadata": {
        "id": "0NewyC3B9EUz",
        "colab": {
          "base_uri": "https://localhost:8080/"
        },
        "outputId": "46c10173-5fc5-40c6-debc-c56b8d9b563c"
      },
      "source": [
        "# Verificar o tamanho, tipo e valores nulos dos dados\n",
        "df.info()"
      ],
      "execution_count": 3,
      "outputs": [
        {
          "output_type": "stream",
          "name": "stdout",
          "text": [
            "<class 'pandas.core.frame.DataFrame'>\n",
            "RangeIndex: 1338 entries, 0 to 1337\n",
            "Data columns (total 7 columns):\n",
            " #   Column    Non-Null Count  Dtype  \n",
            "---  ------    --------------  -----  \n",
            " 0   age       1338 non-null   int64  \n",
            " 1   sex       1338 non-null   object \n",
            " 2   bmi       1338 non-null   float64\n",
            " 3   children  1338 non-null   int64  \n",
            " 4   smoker    1338 non-null   object \n",
            " 5   region    1338 non-null   object \n",
            " 6   charges   1338 non-null   float64\n",
            "dtypes: float64(2), int64(2), object(3)\n",
            "memory usage: 73.3+ KB\n"
          ]
        }
      ]
    },
    {
      "cell_type": "markdown",
      "metadata": {
        "id": "xFA3FNKOACJu"
      },
      "source": [
        "Temos um conjunto de dados relativamente pequeno, com 1338 entradas, colunas de diversos tipos (int, floats e strings) que em etapas posteriores teremos que aplicar algum tipo de tratamento e não temos nenhum valor nulo o que é muito bom para a análise.\n",
        "\n",
        "* Verificar o resumo estatístico dos dados"
      ]
    },
    {
      "cell_type": "code",
      "metadata": {
        "colab": {
          "base_uri": "https://localhost:8080/",
          "height": 300
        },
        "id": "yZzS0eZJ0eFS",
        "outputId": "ee30e006-7bba-4830-c748-55dcecb16011"
      },
      "source": [
        "# Verificar o resumo estatístico dos dados\n",
        "df.describe()"
      ],
      "execution_count": 4,
      "outputs": [
        {
          "output_type": "execute_result",
          "data": {
            "text/plain": [
              "               age          bmi     children       charges\n",
              "count  1338.000000  1338.000000  1338.000000   1338.000000\n",
              "mean     39.207025    30.663397     1.094918  13270.422265\n",
              "std      14.049960     6.098187     1.205493  12110.011237\n",
              "min      18.000000    15.960000     0.000000   1121.873900\n",
              "25%      27.000000    26.296250     0.000000   4740.287150\n",
              "50%      39.000000    30.400000     1.000000   9382.033000\n",
              "75%      51.000000    34.693750     2.000000  16639.912515\n",
              "max      64.000000    53.130000     5.000000  63770.428010"
            ],
            "text/html": [
              "\n",
              "  <div id=\"df-ba4db2ee-7030-4cd0-ac08-7f9358d8058b\">\n",
              "    <div class=\"colab-df-container\">\n",
              "      <div>\n",
              "<style scoped>\n",
              "    .dataframe tbody tr th:only-of-type {\n",
              "        vertical-align: middle;\n",
              "    }\n",
              "\n",
              "    .dataframe tbody tr th {\n",
              "        vertical-align: top;\n",
              "    }\n",
              "\n",
              "    .dataframe thead th {\n",
              "        text-align: right;\n",
              "    }\n",
              "</style>\n",
              "<table border=\"1\" class=\"dataframe\">\n",
              "  <thead>\n",
              "    <tr style=\"text-align: right;\">\n",
              "      <th></th>\n",
              "      <th>age</th>\n",
              "      <th>bmi</th>\n",
              "      <th>children</th>\n",
              "      <th>charges</th>\n",
              "    </tr>\n",
              "  </thead>\n",
              "  <tbody>\n",
              "    <tr>\n",
              "      <th>count</th>\n",
              "      <td>1338.000000</td>\n",
              "      <td>1338.000000</td>\n",
              "      <td>1338.000000</td>\n",
              "      <td>1338.000000</td>\n",
              "    </tr>\n",
              "    <tr>\n",
              "      <th>mean</th>\n",
              "      <td>39.207025</td>\n",
              "      <td>30.663397</td>\n",
              "      <td>1.094918</td>\n",
              "      <td>13270.422265</td>\n",
              "    </tr>\n",
              "    <tr>\n",
              "      <th>std</th>\n",
              "      <td>14.049960</td>\n",
              "      <td>6.098187</td>\n",
              "      <td>1.205493</td>\n",
              "      <td>12110.011237</td>\n",
              "    </tr>\n",
              "    <tr>\n",
              "      <th>min</th>\n",
              "      <td>18.000000</td>\n",
              "      <td>15.960000</td>\n",
              "      <td>0.000000</td>\n",
              "      <td>1121.873900</td>\n",
              "    </tr>\n",
              "    <tr>\n",
              "      <th>25%</th>\n",
              "      <td>27.000000</td>\n",
              "      <td>26.296250</td>\n",
              "      <td>0.000000</td>\n",
              "      <td>4740.287150</td>\n",
              "    </tr>\n",
              "    <tr>\n",
              "      <th>50%</th>\n",
              "      <td>39.000000</td>\n",
              "      <td>30.400000</td>\n",
              "      <td>1.000000</td>\n",
              "      <td>9382.033000</td>\n",
              "    </tr>\n",
              "    <tr>\n",
              "      <th>75%</th>\n",
              "      <td>51.000000</td>\n",
              "      <td>34.693750</td>\n",
              "      <td>2.000000</td>\n",
              "      <td>16639.912515</td>\n",
              "    </tr>\n",
              "    <tr>\n",
              "      <th>max</th>\n",
              "      <td>64.000000</td>\n",
              "      <td>53.130000</td>\n",
              "      <td>5.000000</td>\n",
              "      <td>63770.428010</td>\n",
              "    </tr>\n",
              "  </tbody>\n",
              "</table>\n",
              "</div>\n",
              "      <button class=\"colab-df-convert\" onclick=\"convertToInteractive('df-ba4db2ee-7030-4cd0-ac08-7f9358d8058b')\"\n",
              "              title=\"Convert this dataframe to an interactive table.\"\n",
              "              style=\"display:none;\">\n",
              "        \n",
              "  <svg xmlns=\"http://www.w3.org/2000/svg\" height=\"24px\"viewBox=\"0 0 24 24\"\n",
              "       width=\"24px\">\n",
              "    <path d=\"M0 0h24v24H0V0z\" fill=\"none\"/>\n",
              "    <path d=\"M18.56 5.44l.94 2.06.94-2.06 2.06-.94-2.06-.94-.94-2.06-.94 2.06-2.06.94zm-11 1L8.5 8.5l.94-2.06 2.06-.94-2.06-.94L8.5 2.5l-.94 2.06-2.06.94zm10 10l.94 2.06.94-2.06 2.06-.94-2.06-.94-.94-2.06-.94 2.06-2.06.94z\"/><path d=\"M17.41 7.96l-1.37-1.37c-.4-.4-.92-.59-1.43-.59-.52 0-1.04.2-1.43.59L10.3 9.45l-7.72 7.72c-.78.78-.78 2.05 0 2.83L4 21.41c.39.39.9.59 1.41.59.51 0 1.02-.2 1.41-.59l7.78-7.78 2.81-2.81c.8-.78.8-2.07 0-2.86zM5.41 20L4 18.59l7.72-7.72 1.47 1.35L5.41 20z\"/>\n",
              "  </svg>\n",
              "      </button>\n",
              "      \n",
              "  <style>\n",
              "    .colab-df-container {\n",
              "      display:flex;\n",
              "      flex-wrap:wrap;\n",
              "      gap: 12px;\n",
              "    }\n",
              "\n",
              "    .colab-df-convert {\n",
              "      background-color: #E8F0FE;\n",
              "      border: none;\n",
              "      border-radius: 50%;\n",
              "      cursor: pointer;\n",
              "      display: none;\n",
              "      fill: #1967D2;\n",
              "      height: 32px;\n",
              "      padding: 0 0 0 0;\n",
              "      width: 32px;\n",
              "    }\n",
              "\n",
              "    .colab-df-convert:hover {\n",
              "      background-color: #E2EBFA;\n",
              "      box-shadow: 0px 1px 2px rgba(60, 64, 67, 0.3), 0px 1px 3px 1px rgba(60, 64, 67, 0.15);\n",
              "      fill: #174EA6;\n",
              "    }\n",
              "\n",
              "    [theme=dark] .colab-df-convert {\n",
              "      background-color: #3B4455;\n",
              "      fill: #D2E3FC;\n",
              "    }\n",
              "\n",
              "    [theme=dark] .colab-df-convert:hover {\n",
              "      background-color: #434B5C;\n",
              "      box-shadow: 0px 1px 3px 1px rgba(0, 0, 0, 0.15);\n",
              "      filter: drop-shadow(0px 1px 2px rgba(0, 0, 0, 0.3));\n",
              "      fill: #FFFFFF;\n",
              "    }\n",
              "  </style>\n",
              "\n",
              "      <script>\n",
              "        const buttonEl =\n",
              "          document.querySelector('#df-ba4db2ee-7030-4cd0-ac08-7f9358d8058b button.colab-df-convert');\n",
              "        buttonEl.style.display =\n",
              "          google.colab.kernel.accessAllowed ? 'block' : 'none';\n",
              "\n",
              "        async function convertToInteractive(key) {\n",
              "          const element = document.querySelector('#df-ba4db2ee-7030-4cd0-ac08-7f9358d8058b');\n",
              "          const dataTable =\n",
              "            await google.colab.kernel.invokeFunction('convertToInteractive',\n",
              "                                                     [key], {});\n",
              "          if (!dataTable) return;\n",
              "\n",
              "          const docLinkHtml = 'Like what you see? Visit the ' +\n",
              "            '<a target=\"_blank\" href=https://colab.research.google.com/notebooks/data_table.ipynb>data table notebook</a>'\n",
              "            + ' to learn more about interactive tables.';\n",
              "          element.innerHTML = '';\n",
              "          dataTable['output_type'] = 'display_data';\n",
              "          await google.colab.output.renderOutput(dataTable, element);\n",
              "          const docLink = document.createElement('div');\n",
              "          docLink.innerHTML = docLinkHtml;\n",
              "          element.appendChild(docLink);\n",
              "        }\n",
              "      </script>\n",
              "    </div>\n",
              "  </div>\n",
              "  "
            ]
          },
          "metadata": {},
          "execution_count": 4
        }
      ]
    },
    {
      "cell_type": "markdown",
      "metadata": {
        "id": "PV0EefFgAqKL"
      },
      "source": [
        "Os dados parecem estar de acordo, sem nenhum outlier. Essas medidas estatísticas em questão nos permitem ver como os dados estão distribuidos em termos de posição. \n",
        "\n",
        "Outra maneira rápida de se ter uma ideia do tipo de dados com os quais você está lidando, é plotar um um histograma para cada atributo numérico.\n",
        "\n",
        "* Gráfico histograma"
      ]
    },
    {
      "cell_type": "code",
      "metadata": {
        "id": "1soF-5kHF6oB",
        "colab": {
          "base_uri": "https://localhost:8080/",
          "height": 608
        },
        "outputId": "9a970c40-7df0-44c8-9587-9b12deb8bdb6"
      },
      "source": [
        "# Gráfico histograma\n",
        "df.hist(bins = 50, figsize=(15,10))\n",
        "plt.show()"
      ],
      "execution_count": 5,
      "outputs": [
        {
          "output_type": "display_data",
          "data": {
            "text/plain": [
              "<Figure size 1080x720 with 4 Axes>"
            ],
            "image/png": "[encoded data removed]"
          },
          "metadata": {
            "needs_background": "light"
          }
        }
      ]
    },
    {
      "cell_type": "markdown",
      "metadata": {
        "id": "pP2DIxkBCYwJ"
      },
      "source": [
        "Você deve perceber algumas coisas nesses histogramas:\n",
        "\n",
        "1. As variáveis 'age' e 'children' possuem saídas discretas com alguns picos em determinados valores;\n",
        "2. Esses atributos tem escalas muito diferentes. Analisaremos isso mais adiante, quando explorarmos o escalonamento das variáveis;\n",
        "3. O histograma da variável 'bmi' se assemelha a uma normal, com uma cauda um pouco mais longa a direita;\n",
        "4. O histograma da variável 'charges' apresenta uma longa cauda a direita, isso pode dificultar a detecção de padrões em alguns algoritmos de machine learning.\n",
        "\n",
        "Tentaremos transformar esses atributos posteriormente, a fim de conseguirmos mais distribuições em forma de sino (normais)."
      ]
    },
    {
      "cell_type": "markdown",
      "metadata": {
        "id": "imqm4eQJEpiT"
      },
      "source": [
        "### 2.2 - Criando um conjunto de testes\n",
        "\n",
        "Pode parecer estranho separar o conjunto de dados nessa altura do campeonato. Você apenas deu uma rápida olhada na estrutura dos dados e claramente precisa se aprofundar mais nessa etapa de exploração. A verdade é que nosso cérebro detecta padrões muito facilmente, ou seja, somos propensos ao overfitting: Se você se aprofundar na exploração do conjunto de testes, pode bater o olho em algum padrão interessante, o que o levará a escolha de um algoritmo específico.\n",
        "\n",
        "Quando você for estimar o erro de generalização, usando o conjunto de testes, sua estimativa será otimista demais e você acabará disponibilizando em produção um sistema que não terá o desempenho esperado. **Isso se chama *data snooping bias*.**\n",
        "\n"
      ]
    },
    {
      "cell_type": "code",
      "metadata": {
        "colab": {
          "base_uri": "https://localhost:8080/"
        },
        "id": "T_QsCIjvBi1z",
        "outputId": "597d2fdf-2462-43ec-9bce-46ed4cd9b04d"
      },
      "source": [
        "# Separando o conjunto de dados em treino e teste\n",
        "from sklearn.model_selection import train_test_split\n",
        "\n",
        "train_set, test_set = train_test_split(df, test_size = 0.2, random_state = 42)\n",
        "train_set_size = len(train_set)\n",
        "test_set_size = len(test_set)\n",
        "\n",
        "print('Tamanho do conjunto de treino:', train_set_size)\n",
        "print('Tamanho do conjunto de test:', test_set_size)"
      ],
      "execution_count": 6,
      "outputs": [
        {
          "output_type": "stream",
          "name": "stdout",
          "text": [
            "Tamanho do conjunto de treino: 1070\n",
            "Tamanho do conjunto de test: 268\n"
          ]
        }
      ]
    },
    {
      "cell_type": "markdown",
      "metadata": {
        "id": "YSnFCSXRUGfP"
      },
      "source": [
        "## 3 - Análise Exploratória\n",
        "\n",
        "Até o momento, você teve um pequeno vislumbre de como as coisas funcionam para entender o conjunto de dados que você está manipulando. Agora o objetivo é aprofundar um pouco mais.\n",
        "\n",
        "**Vamos explorar mais a fundo todo o conjunto de dados de treino.**"
      ]
    },
    {
      "cell_type": "code",
      "metadata": {
        "id": "DdjC7Zj5RN6W"
      },
      "source": [
        "# Criar uma cópia do conjunto de treinamento\n",
        "insurance_train = train_set.copy()"
      ],
      "execution_count": 7,
      "outputs": []
    },
    {
      "cell_type": "markdown",
      "metadata": {
        "id": "tydXzntVafKg"
      },
      "source": [
        "### 3.1 - Transformar variáveis qualitativas\n",
        "\n",
        "Em diversos conjuntos de dados, esse tipo de transformação é necessária, já que os modelos de machine learning não entendem variáveis qualitativas. Nesse caso, iremos transformá-las em quantitativas, para que o modelo possa ser alimentado.\n",
        "\n",
        "Estamos fazendo transformações nessa etapa, pois, iremos fazer uma análise exploratória e quero que essas variáveis também façam parte dessa análise."
      ]
    },
    {
      "cell_type": "code",
      "metadata": {
        "colab": {
          "base_uri": "https://localhost:8080/",
          "height": 206
        },
        "id": "CbWlOIvLuFyQ",
        "outputId": "9c99e86b-2fd4-464c-9e04-7d428598ffbd"
      },
      "source": [
        "# Transformando as variáveis qualitativas categóricas\n",
        "insurance_train = pd.get_dummies(insurance_train)\n",
        "\n",
        "# Excluindo uma das variáveis redundantes\n",
        "insurance_train = insurance_train.drop(['sex_female', 'smoker_no'], axis=1)\n",
        "insurance_train.rename(columns={'sex_male': 'sex', 'smoker_yes': 'smoker'}, inplace=True)\n",
        "\n",
        "# Agora temos apenas uma coluna 'sex' e 'smoker'\n",
        "# Para a coluna sexo, male = 1 and female = 0\n",
        "# Para a coluna fumante, smoker = 1 and non-smoker = 0\n",
        "insurance_train.head()"
      ],
      "execution_count": 8,
      "outputs": [
        {
          "output_type": "execute_result",
          "data": {
            "text/plain": [
              "      age    bmi  children      charges  sex  smoker  region_northeast  \\\n",
              "560    46  19.95         2   9193.83850    0       0                 0   \n",
              "1285   47  24.32         0   8534.67180    0       0                 1   \n",
              "1142   52  24.86         0  27117.99378    0       0                 0   \n",
              "969    39  34.32         5   8596.82780    0       0                 0   \n",
              "486    54  21.47         3  12475.35130    0       0                 0   \n",
              "\n",
              "      region_northwest  region_southeast  region_southwest  \n",
              "560                  1                 0                 0  \n",
              "1285                 0                 0                 0  \n",
              "1142                 0                 1                 0  \n",
              "969                  0                 1                 0  \n",
              "486                  1                 0                 0  "
            ],
            "text/html": [
              "\n",
              "  <div id=\"df-9afb98f1-2340-4c3c-b5d4-d37634af5446\">\n",
              "    <div class=\"colab-df-container\">\n",
              "      <div>\n",
              "<style scoped>\n",
              "    .dataframe tbody tr th:only-of-type {\n",
              "        vertical-align: middle;\n",
              "    }\n",
              "\n",
              "    .dataframe tbody tr th {\n",
              "        vertical-align: top;\n",
              "    }\n",
              "\n",
              "    .dataframe thead th {\n",
              "        text-align: right;\n",
              "    }\n",
              "</style>\n",
              "<table border=\"1\" class=\"dataframe\">\n",
              "  <thead>\n",
              "    <tr style=\"text-align: right;\">\n",
              "      <th></th>\n",
              "      <th>age</th>\n",
              "      <th>bmi</th>\n",
              "      <th>children</th>\n",
              "      <th>charges</th>\n",
              "      <th>sex</th>\n",
              "      <th>smoker</th>\n",
              "      <th>region_northeast</th>\n",
              "      <th>region_northwest</th>\n",
              "      <th>region_southeast</th>\n",
              "      <th>region_southwest</th>\n",
              "    </tr>\n",
              "  </thead>\n",
              "  <tbody>\n",
              "    <tr>\n",
              "      <th>560</th>\n",
              "      <td>46</td>\n",
              "      <td>19.95</td>\n",
              "      <td>2</td>\n",
              "      <td>9193.83850</td>\n",
              "      <td>0</td>\n",
              "      <td>0</td>\n",
              "      <td>0</td>\n",
              "      <td>1</td>\n",
              "      <td>0</td>\n",
              "      <td>0</td>\n",
              "    </tr>\n",
              "    <tr>\n",
              "      <th>1285</th>\n",
              "      <td>47</td>\n",
              "      <td>24.32</td>\n",
              "      <td>0</td>\n",
              "      <td>8534.67180</td>\n",
              "      <td>0</td>\n",
              "      <td>0</td>\n",
              "      <td>1</td>\n",
              "      <td>0</td>\n",
              "      <td>0</td>\n",
              "      <td>0</td>\n",
              "    </tr>\n",
              "    <tr>\n",
              "      <th>1142</th>\n",
              "      <td>52</td>\n",
              "      <td>24.86</td>\n",
              "      <td>0</td>\n",
              "      <td>27117.99378</td>\n",
              "      <td>0</td>\n",
              "      <td>0</td>\n",
              "      <td>0</td>\n",
              "      <td>0</td>\n",
              "      <td>1</td>\n",
              "      <td>0</td>\n",
              "    </tr>\n",
              "    <tr>\n",
              "      <th>969</th>\n",
              "      <td>39</td>\n",
              "      <td>34.32</td>\n",
              "      <td>5</td>\n",
              "      <td>8596.82780</td>\n",
              "      <td>0</td>\n",
              "      <td>0</td>\n",
              "      <td>0</td>\n",
              "      <td>0</td>\n",
              "      <td>1</td>\n",
              "      <td>0</td>\n",
              "    </tr>\n",
              "    <tr>\n",
              "      <th>486</th>\n",
              "      <td>54</td>\n",
              "      <td>21.47</td>\n",
              "      <td>3</td>\n",
              "      <td>12475.35130</td>\n",
              "      <td>0</td>\n",
              "      <td>0</td>\n",
              "      <td>0</td>\n",
              "      <td>1</td>\n",
              "      <td>0</td>\n",
              "      <td>0</td>\n",
              "    </tr>\n",
              "  </tbody>\n",
              "</table>\n",
              "</div>\n",
              "      <button class=\"colab-df-convert\" onclick=\"convertToInteractive('df-9afb98f1-2340-4c3c-b5d4-d37634af5446')\"\n",
              "              title=\"Convert this dataframe to an interactive table.\"\n",
              "              style=\"display:none;\">\n",
              "        \n",
              "  <svg xmlns=\"http://www.w3.org/2000/svg\" height=\"24px\"viewBox=\"0 0 24 24\"\n",
              "       width=\"24px\">\n",
              "    <path d=\"M0 0h24v24H0V0z\" fill=\"none\"/>\n",
              "    <path d=\"M18.56 5.44l.94 2.06.94-2.06 2.06-.94-2.06-.94-.94-2.06-.94 2.06-2.06.94zm-11 1L8.5 8.5l.94-2.06 2.06-.94-2.06-.94L8.5 2.5l-.94 2.06-2.06.94zm10 10l.94 2.06.94-2.06 2.06-.94-2.06-.94-.94-2.06-.94 2.06-2.06.94z\"/><path d=\"M17.41 7.96l-1.37-1.37c-.4-.4-.92-.59-1.43-.59-.52 0-1.04.2-1.43.59L10.3 9.45l-7.72 7.72c-.78.78-.78 2.05 0 2.83L4 21.41c.39.39.9.59 1.41.59.51 0 1.02-.2 1.41-.59l7.78-7.78 2.81-2.81c.8-.78.8-2.07 0-2.86zM5.41 20L4 18.59l7.72-7.72 1.47 1.35L5.41 20z\"/>\n",
              "  </svg>\n",
              "      </button>\n",
              "      \n",
              "  <style>\n",
              "    .colab-df-container {\n",
              "      display:flex;\n",
              "      flex-wrap:wrap;\n",
              "      gap: 12px;\n",
              "    }\n",
              "\n",
              "    .colab-df-convert {\n",
              "      background-color: #E8F0FE;\n",
              "      border: none;\n",
              "      border-radius: 50%;\n",
              "      cursor: pointer;\n",
              "      display: none;\n",
              "      fill: #1967D2;\n",
              "      height: 32px;\n",
              "      padding: 0 0 0 0;\n",
              "      width: 32px;\n",
              "    }\n",
              "\n",
              "    .colab-df-convert:hover {\n",
              "      background-color: #E2EBFA;\n",
              "      box-shadow: 0px 1px 2px rgba(60, 64, 67, 0.3), 0px 1px 3px 1px rgba(60, 64, 67, 0.15);\n",
              "      fill: #174EA6;\n",
              "    }\n",
              "\n",
              "    [theme=dark] .colab-df-convert {\n",
              "      background-color: #3B4455;\n",
              "      fill: #D2E3FC;\n",
              "    }\n",
              "\n",
              "    [theme=dark] .colab-df-convert:hover {\n",
              "      background-color: #434B5C;\n",
              "      box-shadow: 0px 1px 3px 1px rgba(0, 0, 0, 0.15);\n",
              "      filter: drop-shadow(0px 1px 2px rgba(0, 0, 0, 0.3));\n",
              "      fill: #FFFFFF;\n",
              "    }\n",
              "  </style>\n",
              "\n",
              "      <script>\n",
              "        const buttonEl =\n",
              "          document.querySelector('#df-9afb98f1-2340-4c3c-b5d4-d37634af5446 button.colab-df-convert');\n",
              "        buttonEl.style.display =\n",
              "          google.colab.kernel.accessAllowed ? 'block' : 'none';\n",
              "\n",
              "        async function convertToInteractive(key) {\n",
              "          const element = document.querySelector('#df-9afb98f1-2340-4c3c-b5d4-d37634af5446');\n",
              "          const dataTable =\n",
              "            await google.colab.kernel.invokeFunction('convertToInteractive',\n",
              "                                                     [key], {});\n",
              "          if (!dataTable) return;\n",
              "\n",
              "          const docLinkHtml = 'Like what you see? Visit the ' +\n",
              "            '<a target=\"_blank\" href=https://colab.research.google.com/notebooks/data_table.ipynb>data table notebook</a>'\n",
              "            + ' to learn more about interactive tables.';\n",
              "          element.innerHTML = '';\n",
              "          dataTable['output_type'] = 'display_data';\n",
              "          await google.colab.output.renderOutput(dataTable, element);\n",
              "          const docLink = document.createElement('div');\n",
              "          docLink.innerHTML = docLinkHtml;\n",
              "          element.appendChild(docLink);\n",
              "        }\n",
              "      </script>\n",
              "    </div>\n",
              "  </div>\n",
              "  "
            ]
          },
          "metadata": {},
          "execution_count": 8
        }
      ]
    },
    {
      "cell_type": "markdown",
      "metadata": {
        "id": "VF1R7eL0x_XX"
      },
      "source": [
        "Agora sim, o conjunto de dados será explorado de forma completa, além de estar no formato correto para alimentar os algoritmos de machine learning."
      ]
    },
    {
      "cell_type": "markdown",
      "metadata": {
        "id": "P24CLU8EyTJ3"
      },
      "source": [
        "### 3.2 - Buscando correlações\n",
        "\n",
        "A correlação mede o grau em que dois fenômenos estão relacionados entre si. O poder da correlação como uma ferramenta estatística é que podemos encapsular uma associação entre duas variáveis ​​em uma única estatística descritiva: **O coeficiente de correlação.**\n",
        "\n",
        "Duas variáveis ​​são positivamente correlacionadas se uma variação em uma delas estiver associada a uma variação na outra na mesma direção. Da mesma forma, são negativamente correlacionados se uma variação em uma delas estiver associada a uma variação na outra na direção oposta.\n",
        "\n",
        "O coeficiente de correlação é um único número que varia de -1 a 1. Uma correlação de 1 é chamada de correlação positiva perfeita. Uma correlação de -1 é chamada de correlação negativa perfeita. Uma correlação de 0 significa que as variáveis ​​não têm associação significativa entre si.\n",
        "\n",
        "**Uma coisa excelente sobre o coeficiente de correlação é que ele não está vinculado a nenhuma unidade.**\n",
        "\n",
        "**O aspecto complicado deste tipo de associação é que nem todos os pontos de dados necessariamente se encaixam no padrão.**\n",
        "\n"
      ]
    },
    {
      "cell_type": "code",
      "metadata": {
        "id": "yoTwZLY53UR9",
        "colab": {
          "base_uri": "https://localhost:8080/",
          "height": 494
        },
        "outputId": "c186b14a-ff52-4db0-872f-d93a41eb8dd1"
      },
      "source": [
        "# Análise da correlação de pearson entre as variáveis\n",
        "corr = insurance_train.corr()\n",
        "plt.figure(figsize=(7,7))\n",
        "sns.heatmap(corr, fmt='.0%', annot=True, square=True)\n",
        "plt.tight_layout()"
      ],
      "execution_count": 9,
      "outputs": [
        {
          "output_type": "display_data",
          "data": {
            "text/plain": [
              "<Figure size 504x504 with 2 Axes>"
            ],
            "image/png": "[encoded data removed]"
          },
          "metadata": {
            "needs_background": "light"
          }
        }
      ]
    },
    {
      "cell_type": "markdown",
      "metadata": {
        "id": "fRo01uFL3QoQ"
      },
      "source": [
        "Não vemos relações tão significativas entre as variáveis independentes, o que é bom, pois, não temos variáveis colineares (redundantes). Também não vemos relações significativas das variáveis independentes com a variável dependente, exceto a variável 'smoker' que possui forte correlação. Vamos plotar essas relações com a variável dependente junto do p-value, para vermos o grau de certeza que temos nestes valores.\n",
        "\n",
        "Além do coeficiente de correlação, podemos usar o p-value para garantir que as correlações que estamos vendo no gráfico são significativas.\n",
        "\n",
        "<img src=\"https://github.com/vitorbeltrao/Pictures/blob/main/correlacao%20e%20pvalue.png?raw=true\" width=\"50%\">"
      ]
    },
    {
      "cell_type": "code",
      "metadata": {
        "id": "K2ArSTiCx71i",
        "colab": {
          "base_uri": "https://localhost:8080/"
        },
        "outputId": "673bf8fa-98bb-4f32-8197-de3f6c8f0eea"
      },
      "source": [
        "# Verificar o p-value com a variável alvo\n",
        "from scipy import stats\n",
        "for col in insurance_train:\n",
        "    y = insurance_train['charges']\n",
        "    X = insurance_train[col]\n",
        "    pearson_coef, p_value = stats.pearsonr(X, y)\n",
        "    print(col, '- Pearson:',pearson_coef, '- p-value:', p_value)"
      ],
      "execution_count": 10,
      "outputs": [
        {
          "output_type": "stream",
          "name": "stdout",
          "text": [
            "age - Pearson: 0.2817208166410557 - p-value: 5.6944808440626626e-21\n",
            "bmi - Pearson: 0.19731629949070123 - p-value: 7.467475822625886e-11\n",
            "children - Pearson: 0.07188497467963079 - p-value: 0.018687166961159206\n",
            "charges - Pearson: 1.0 - p-value: 0.0\n",
            "sex - Pearson: 0.056802443755458024 - p-value: 0.06325648046004716\n",
            "smoker - Pearson: 0.780062513309504 - p-value: 1.0360773472184353e-219\n",
            "region_northeast - Pearson: -0.0006278461628282585 - p-value: 0.9836338375850079\n",
            "region_northwest - Pearson: -0.03377597331279535 - p-value: 0.26965191719174403\n",
            "region_southeast - Pearson: 0.06749133443601293 - p-value: 0.027269638099013147\n",
            "region_southwest - Pearson: -0.034994111286059636 - p-value: 0.25274823795795065\n"
          ]
        }
      ]
    },
    {
      "cell_type": "markdown",
      "metadata": {
        "id": "w8sjzmmfdPGU"
      },
      "source": [
        "As variáveis que possuem forte relações lineares positivas com a 'charges' são: 'age', 'bmi' e 'smoker', com destaque para essa última. O restante não possui forte correlação linear, já que os coeficientes deram todos próximos de 0.\n",
        "\n",
        "Uma outra forma de ver essa relações seria plotando um gráfico de dispersão."
      ]
    },
    {
      "cell_type": "code",
      "metadata": {
        "colab": {
          "base_uri": "https://localhost:8080/",
          "height": 213
        },
        "id": "rpMwmTCjdBZs",
        "outputId": "75004da0-417f-4cef-d7ed-475843a44a5c"
      },
      "source": [
        "# Usando o gráfico de dispersão para verificar as relações entre variáveis\n",
        "ax = sns.pairplot(insurance_train, y_vars='charges', x_vars=['age', 'bmi', 'children', \n",
        "                                                             'sex', 'smoker',\n",
        "                                                             'region_northeast', 'region_northwest',\n",
        "                                                             'region_southeast', 'region_southwest'], \n",
        "                                                             kind='reg', plot_kws={'line_kws':{'color':'black'}})\n",
        "\n",
        "ax.fig.suptitle('Dispersão entre as variáveis', fontsize=20, y=1.05)\n",
        "plt.show()"
      ],
      "execution_count": 11,
      "outputs": [
        {
          "output_type": "display_data",
          "data": {
            "text/plain": [
              "<Figure size 1620x180 with 9 Axes>"
            ],
            "image/png": "[encoded data removed]"
          },
          "metadata": {
            "needs_background": "light"
          }
        }
      ]
    },
    {
      "cell_type": "markdown",
      "metadata": {
        "id": "bEqQCropkHnr"
      },
      "source": [
        "Graficamente confirmamos o que vimos acima, apenas as variáveis 'age', 'bmi' e 'smoker' possuem fortes relações lineares com a variável 'charges'.\n",
        "\n",
        "Os atributos mais promissores para prever o valor das cobranças (charges) são esses citados acima."
      ]
    },
    {
      "cell_type": "markdown",
      "metadata": {
        "id": "MAFwiWyOlArZ"
      },
      "source": [
        "### 3.3 - Testando combinações de atributo\n",
        "\n",
        "Espero que os itens anteriores tenham lhe passado uma boa noção no que diz respeito a algumas formas de explorar e obter informações úteis. Foi possível observar também, que alguns atributos tem uma cauda longa de distribuição, assim sendo, talvez você queira transformá-los (por exemplo utilizando o logaritmo). Obviamente que sua linha de atuação será diferente em cada projeto, mas as ideias gerais são semelhantes.\n",
        "\n",
        "Uma última coisa que você pode querer fazer antes de preparar os dados para os algoritmos de machine learning é identificar diversas combinações de atributos, como uma espécie de feature engineering. Nesse exemplo aqui, podemos discretizar a variável 'bmi' a fim de tentar melhorar a explicabilidade do modelo.\n",
        "\n",
        "<center><img src=\"https://image.freepik.com/free-vector/science-laboratory-illustration_1284-19152.jpg\" height=\"300\"></center>\n",
        "\n",
        "Deixei a ideia aqui para você aplicar nos seus projetos. Falaremos mais sobre feature engineering no próximo tópico. \n",
        "\n"
      ]
    },
    {
      "cell_type": "markdown",
      "metadata": {
        "id": "3TJkVi0J-zqx"
      },
      "source": [
        "## 4 - Limpeza e preparação dos dados\n",
        "\n",
        "É hora de preparar os dados para seus algoritmos de machine learning. Você deve escrever funções para as seguintes razões:    \n",
        "\n",
        "* Isso lhe possibilitará reproduzir essas transformações facilmente em qualquer conjunto de dados;\n",
        "* Você construirá aos poucos uma biblioteca de funções de transformação que poderão ser reutilizadas em projetos futuros;\n",
        "* Você pode usar essas funções em seu sistema ativo para transformar os dados novos, antes de fornecê-los aos algoritmos;\n",
        "* Isso lhe possibilitará testar várias transformações facilmente e identificar qual combinação funciona melhor.\n",
        "\n",
        "\n"
      ]
    },
    {
      "cell_type": "markdown",
      "metadata": {
        "id": "qwe2a7asB7JK"
      },
      "source": [
        "### 4.1 - Limpando os dados\n",
        "\n",
        "A limpeza dos dados consiste em:\n",
        "\n",
        "* Corrigir ou remover outliers (caso necessário);\n",
        "* Preencher os valores ausentes ou eliminar suas linhas ou colunas (caso necessário).\n",
        "\n",
        "No nosso caso não temos nenhum valor ausente, mas acredito que temos alguns outliers na variável 'bmi' devido a cauda presente no histograma visto no tópico 2. Vamos eliminá-los."
      ]
    },
    {
      "cell_type": "code",
      "metadata": {
        "colab": {
          "base_uri": "https://localhost:8080/",
          "height": 321
        },
        "id": "c1EwdthdWljo",
        "outputId": "295e3044-2353-44e3-837c-09aed407610c"
      },
      "source": [
        "# Criar uma cópia do dataframe\n",
        "insurance_clean = insurance_train.copy()\n",
        "\n",
        "# Boxplot para verificar a existência dos outliers\n",
        "ax = sns.boxplot(x = 'bmi', data = insurance_clean, orient = 'h')\n",
        "ax.figure.set_size_inches(12, 4)\n",
        "ax.set_title('Distribuição da variável bmi - Com outliers', fontsize=18)\n",
        "ax.set_xlabel('bmi', fontsize=14)\n",
        "ax"
      ],
      "execution_count": 12,
      "outputs": [
        {
          "output_type": "execute_result",
          "data": {
            "text/plain": [
              "<matplotlib.axes._subplots.AxesSubplot at 0x7f4c27d359d0>"
            ]
          },
          "metadata": {},
          "execution_count": 12
        },
        {
          "output_type": "display_data",
          "data": {
            "text/plain": [
              "<Figure size 864x288 with 1 Axes>"
            ],
            "image/png": "[encoded data removed]"
          },
          "metadata": {
            "needs_background": "light"
          }
        }
      ]
    },
    {
      "cell_type": "code",
      "metadata": {
        "id": "C8Og01DYhfDU"
      },
      "source": [
        "# Função de eliminação de outliers\n",
        "def exclui_outliers(DataFrame, col_name):\n",
        "  intervalo = 2.7*DataFrame[col_name].std()\n",
        "  media = DataFrame[col_name].mean()\n",
        "  DataFrame.loc[df[col_name] < (media - intervalo), col_name] = np.nan\n",
        "  DataFrame.loc[df[col_name] > (media + intervalo), col_name] = np.nan"
      ],
      "execution_count": 13,
      "outputs": []
    },
    {
      "cell_type": "code",
      "metadata": {
        "id": "J-JLhKmHVcCu"
      },
      "source": [
        "# Eliminar outliers\n",
        "numerical_cols = ['bmi']\n",
        "for col in numerical_cols:\n",
        "  exclui_outliers(insurance_clean, col)"
      ],
      "execution_count": 14,
      "outputs": []
    },
    {
      "cell_type": "code",
      "metadata": {
        "colab": {
          "base_uri": "https://localhost:8080/",
          "height": 356
        },
        "id": "bfX4oxy8X78s",
        "outputId": "3ccb5647-ebb9-4da6-d58a-1d3223615f5f"
      },
      "source": [
        "# Substituir os valores ausentes pela mediana utilizando a função 'imputer'\n",
        "from sklearn.impute import SimpleImputer\n",
        "imputer = SimpleImputer(strategy = 'median')\n",
        "imputer.fit(insurance_clean)\n",
        "print(imputer.statistics_)\n",
        "X_input = imputer.transform(insurance_clean)\n",
        "insurance_clean = pd.DataFrame(X_input, columns = insurance_clean.columns,\n",
        "                               index = insurance_clean.index)\n",
        "\n",
        "# Verificar boxplot novamente\n",
        "ax = sns.boxplot(x = 'bmi', data = insurance_clean, orient = 'h')\n",
        "ax.figure.set_size_inches(12, 4)\n",
        "ax.set_title('Distribuição da variável bmi - Sem outliers', fontsize=18)\n",
        "ax.set_xlabel('bmi', fontsize=14)\n",
        "ax"
      ],
      "execution_count": 15,
      "outputs": [
        {
          "output_type": "stream",
          "name": "stdout",
          "text": [
            "[3.9500000e+01 3.0205000e+01 1.0000000e+00 9.5754421e+03 1.0000000e+00\n",
            " 0.0000000e+00 0.0000000e+00 0.0000000e+00 0.0000000e+00 0.0000000e+00]\n"
          ]
        },
        {
          "output_type": "execute_result",
          "data": {
            "text/plain": [
              "<matplotlib.axes._subplots.AxesSubplot at 0x7f4c28ec4390>"
            ]
          },
          "metadata": {},
          "execution_count": 15
        },
        {
          "output_type": "display_data",
          "data": {
            "text/plain": [
              "<Figure size 864x288 with 1 Axes>"
            ],
            "image/png": "[encoded data removed]"
          },
          "metadata": {
            "needs_background": "light"
          }
        }
      ]
    },
    {
      "cell_type": "markdown",
      "metadata": {
        "id": "UeCy4HHEYd8A"
      },
      "source": [
        "Veja só, com as nossas funções conseguimos eliminar diversos outliers e substituí-los pela mediana. Optei pela mediana, justamente por ela ser menos sensível a outliers.\n",
        "\n",
        "Para fazer isso, utilizamos duas funções:\n",
        "1. A primeira, é a função de eliminação dos outliers que estão a 2,7 desvios-padrões acima e abaixo da respectiva variável.\n",
        "\n",
        "<img src='https://github.com/vitorbeltrao/Pictures/blob/main/distribui%C3%A7%C3%A3o%20normal.png?raw=true' width='50%'>\n",
        "\n",
        "Uma das distribuições mais comuns, importantes e úteis em estatística é a **distribuição normal**. Dados distribuídos normalmente são simétricos em torno da sua média, num formato de sino, conforme gráfico acima.\n",
        "\n",
        "Continuando nossa análise do desvio padrão, numa distribuição normal conhecemos exatamente que proporção das observações cai dentro de um desvio padrão da média (68,2%), dentro de dois desvios padrões da média (95,4%), dentro de três desvios padrões (99,7%) e assim por diante. **Este é o alicerce sobre qual se fundamenta grande parte da estatística**.\n",
        "\n",
        "Vimos no tópico 2, que o histograma da variável 'bmi' se assemelhava a uma normal, por isso utilizamos essa estratégia aqui.\n",
        "\n",
        "2. A segunda, foi uma função de imputação. A [SimpleImputer](https://scikit-learn.org/stable/modules/generated/sklearn.impute.SimpleImputer.html) se encarrega dos valores ausentes. Originalmente não tínhamos nenhum valor ausente no conjunto de dados, mas ao aplicar a primeira função (descrita acima) os valores que eram outliers ficaram nulos, e então utilizamos a função de imputação para preenchê-los com a mediana do conjunto.\n",
        "\n",
        "Vale ressaltar, que a 'imputer' simplesmente calculou a média de cada variável e armazenou o resultado em sua variável 'statistics_'. Somente a variável 'bmi' tinha valores ausentes, mas não podemos ter certeza de que não haverá valores ausentes nos dados novos, uma vez que o sistema entre em produção, por isso é mais seguro aplicar a 'imputer' a todos os atributos numéricos. "
      ]
    },
    {
      "cell_type": "markdown",
      "metadata": {
        "id": "KhlLLFx7mXCU"
      },
      "source": [
        "### 4.2 - Feature Engineering\n",
        "\n",
        "***Feature Engineering*** é usar dados, dentro do domínio do conhecimento, e criar *features* novas para o seu conjunto de dados. Quando você entende esse conceito e aplica corretamente as técnicas de engenharia, melhora ainda mais a capacidade de previsão do seu modelo de machine learning.\n",
        "\n",
        "> *The algorithms we used are very standard for Kagglers. […]  We spent most of our efforts in feature engineering  (Xavier Conort)*\n",
        "\n",
        "Utilizamos essa técnica geralmente para:     \n",
        "* Discretizar características contínuas;\n",
        "* Decompor as características (categóricas, data/hora, etc.);\n",
        "* Adicionar transformações promissoras de características (log(x), sqrt(x), x², etc.);\n",
        "* Agregar características em novas características promissoras com base em seu conhecimento de negócio.\n",
        "\n",
        "No nosso caso aqui, iremos apenas discretizar a variável 'bmi', ou seja, atualmente ela é uma variável contínua, vamos passa-la para categórica.\n"
      ]
    },
    {
      "cell_type": "code",
      "metadata": {
        "colab": {
          "base_uri": "https://localhost:8080/",
          "height": 206
        },
        "id": "OYQIdXI1YUkL",
        "outputId": "6197760b-3ed0-4b3a-93e6-8660f7bd282d"
      },
      "source": [
        "# Função que trocará a variável 'bmi' para categórica\n",
        "def weightCondition(bmi):\n",
        "  if bmi < 18.5:\n",
        "    return \"Underweight\"\n",
        "  elif (bmi >= 18.5) & (bmi < 24.986):\n",
        "    return \"Normal\"\n",
        "  elif (bmi >= 25) & (bmi < 29.926):\n",
        "    return \"Overweight\"\n",
        "  else:\n",
        "    return \"Obese\"\n",
        "insurance_clean[\"weight_Condition\"] = [weightCondition(val) for val in insurance_clean[\"bmi\"]]\n",
        "insurance_clean.head()"
      ],
      "execution_count": 16,
      "outputs": [
        {
          "output_type": "execute_result",
          "data": {
            "text/plain": [
              "       age    bmi  children      charges  sex  smoker  region_northeast  \\\n",
              "560   46.0  19.95       2.0   9193.83850  0.0     0.0               0.0   \n",
              "1285  47.0  24.32       0.0   8534.67180  0.0     0.0               1.0   \n",
              "1142  52.0  24.86       0.0  27117.99378  0.0     0.0               0.0   \n",
              "969   39.0  34.32       5.0   8596.82780  0.0     0.0               0.0   \n",
              "486   54.0  21.47       3.0  12475.35130  0.0     0.0               0.0   \n",
              "\n",
              "      region_northwest  region_southeast  region_southwest weight_Condition  \n",
              "560                1.0               0.0               0.0           Normal  \n",
              "1285               0.0               0.0               0.0           Normal  \n",
              "1142               0.0               1.0               0.0           Normal  \n",
              "969                0.0               1.0               0.0            Obese  \n",
              "486                1.0               0.0               0.0           Normal  "
            ],
            "text/html": [
              "\n",
              "  <div id=\"df-3bd56bbf-6964-4893-a766-04ecd8ad8f79\">\n",
              "    <div class=\"colab-df-container\">\n",
              "      <div>\n",
              "<style scoped>\n",
              "    .dataframe tbody tr th:only-of-type {\n",
              "        vertical-align: middle;\n",
              "    }\n",
              "\n",
              "    .dataframe tbody tr th {\n",
              "        vertical-align: top;\n",
              "    }\n",
              "\n",
              "    .dataframe thead th {\n",
              "        text-align: right;\n",
              "    }\n",
              "</style>\n",
              "<table border=\"1\" class=\"dataframe\">\n",
              "  <thead>\n",
              "    <tr style=\"text-align: right;\">\n",
              "      <th></th>\n",
              "      <th>age</th>\n",
              "      <th>bmi</th>\n",
              "      <th>children</th>\n",
              "      <th>charges</th>\n",
              "      <th>sex</th>\n",
              "      <th>smoker</th>\n",
              "      <th>region_northeast</th>\n",
              "      <th>region_northwest</th>\n",
              "      <th>region_southeast</th>\n",
              "      <th>region_southwest</th>\n",
              "      <th>weight_Condition</th>\n",
              "    </tr>\n",
              "  </thead>\n",
              "  <tbody>\n",
              "    <tr>\n",
              "      <th>560</th>\n",
              "      <td>46.0</td>\n",
              "      <td>19.95</td>\n",
              "      <td>2.0</td>\n",
              "      <td>9193.83850</td>\n",
              "      <td>0.0</td>\n",
              "      <td>0.0</td>\n",
              "      <td>0.0</td>\n",
              "      <td>1.0</td>\n",
              "      <td>0.0</td>\n",
              "      <td>0.0</td>\n",
              "      <td>Normal</td>\n",
              "    </tr>\n",
              "    <tr>\n",
              "      <th>1285</th>\n",
              "      <td>47.0</td>\n",
              "      <td>24.32</td>\n",
              "      <td>0.0</td>\n",
              "      <td>8534.67180</td>\n",
              "      <td>0.0</td>\n",
              "      <td>0.0</td>\n",
              "      <td>1.0</td>\n",
              "      <td>0.0</td>\n",
              "      <td>0.0</td>\n",
              "      <td>0.0</td>\n",
              "      <td>Normal</td>\n",
              "    </tr>\n",
              "    <tr>\n",
              "      <th>1142</th>\n",
              "      <td>52.0</td>\n",
              "      <td>24.86</td>\n",
              "      <td>0.0</td>\n",
              "      <td>27117.99378</td>\n",
              "      <td>0.0</td>\n",
              "      <td>0.0</td>\n",
              "      <td>0.0</td>\n",
              "      <td>0.0</td>\n",
              "      <td>1.0</td>\n",
              "      <td>0.0</td>\n",
              "      <td>Normal</td>\n",
              "    </tr>\n",
              "    <tr>\n",
              "      <th>969</th>\n",
              "      <td>39.0</td>\n",
              "      <td>34.32</td>\n",
              "      <td>5.0</td>\n",
              "      <td>8596.82780</td>\n",
              "      <td>0.0</td>\n",
              "      <td>0.0</td>\n",
              "      <td>0.0</td>\n",
              "      <td>0.0</td>\n",
              "      <td>1.0</td>\n",
              "      <td>0.0</td>\n",
              "      <td>Obese</td>\n",
              "    </tr>\n",
              "    <tr>\n",
              "      <th>486</th>\n",
              "      <td>54.0</td>\n",
              "      <td>21.47</td>\n",
              "      <td>3.0</td>\n",
              "      <td>12475.35130</td>\n",
              "      <td>0.0</td>\n",
              "      <td>0.0</td>\n",
              "      <td>0.0</td>\n",
              "      <td>1.0</td>\n",
              "      <td>0.0</td>\n",
              "      <td>0.0</td>\n",
              "      <td>Normal</td>\n",
              "    </tr>\n",
              "  </tbody>\n",
              "</table>\n",
              "</div>\n",
              "      <button class=\"colab-df-convert\" onclick=\"convertToInteractive('df-3bd56bbf-6964-4893-a766-04ecd8ad8f79')\"\n",
              "              title=\"Convert this dataframe to an interactive table.\"\n",
              "              style=\"display:none;\">\n",
              "        \n",
              "  <svg xmlns=\"http://www.w3.org/2000/svg\" height=\"24px\"viewBox=\"0 0 24 24\"\n",
              "       width=\"24px\">\n",
              "    <path d=\"M0 0h24v24H0V0z\" fill=\"none\"/>\n",
              "    <path d=\"M18.56 5.44l.94 2.06.94-2.06 2.06-.94-2.06-.94-.94-2.06-.94 2.06-2.06.94zm-11 1L8.5 8.5l.94-2.06 2.06-.94-2.06-.94L8.5 2.5l-.94 2.06-2.06.94zm10 10l.94 2.06.94-2.06 2.06-.94-2.06-.94-.94-2.06-.94 2.06-2.06.94z\"/><path d=\"M17.41 7.96l-1.37-1.37c-.4-.4-.92-.59-1.43-.59-.52 0-1.04.2-1.43.59L10.3 9.45l-7.72 7.72c-.78.78-.78 2.05 0 2.83L4 21.41c.39.39.9.59 1.41.59.51 0 1.02-.2 1.41-.59l7.78-7.78 2.81-2.81c.8-.78.8-2.07 0-2.86zM5.41 20L4 18.59l7.72-7.72 1.47 1.35L5.41 20z\"/>\n",
              "  </svg>\n",
              "      </button>\n",
              "      \n",
              "  <style>\n",
              "    .colab-df-container {\n",
              "      display:flex;\n",
              "      flex-wrap:wrap;\n",
              "      gap: 12px;\n",
              "    }\n",
              "\n",
              "    .colab-df-convert {\n",
              "      background-color: #E8F0FE;\n",
              "      border: none;\n",
              "      border-radius: 50%;\n",
              "      cursor: pointer;\n",
              "      display: none;\n",
              "      fill: #1967D2;\n",
              "      height: 32px;\n",
              "      padding: 0 0 0 0;\n",
              "      width: 32px;\n",
              "    }\n",
              "\n",
              "    .colab-df-convert:hover {\n",
              "      background-color: #E2EBFA;\n",
              "      box-shadow: 0px 1px 2px rgba(60, 64, 67, 0.3), 0px 1px 3px 1px rgba(60, 64, 67, 0.15);\n",
              "      fill: #174EA6;\n",
              "    }\n",
              "\n",
              "    [theme=dark] .colab-df-convert {\n",
              "      background-color: #3B4455;\n",
              "      fill: #D2E3FC;\n",
              "    }\n",
              "\n",
              "    [theme=dark] .colab-df-convert:hover {\n",
              "      background-color: #434B5C;\n",
              "      box-shadow: 0px 1px 3px 1px rgba(0, 0, 0, 0.15);\n",
              "      filter: drop-shadow(0px 1px 2px rgba(0, 0, 0, 0.3));\n",
              "      fill: #FFFFFF;\n",
              "    }\n",
              "  </style>\n",
              "\n",
              "      <script>\n",
              "        const buttonEl =\n",
              "          document.querySelector('#df-3bd56bbf-6964-4893-a766-04ecd8ad8f79 button.colab-df-convert');\n",
              "        buttonEl.style.display =\n",
              "          google.colab.kernel.accessAllowed ? 'block' : 'none';\n",
              "\n",
              "        async function convertToInteractive(key) {\n",
              "          const element = document.querySelector('#df-3bd56bbf-6964-4893-a766-04ecd8ad8f79');\n",
              "          const dataTable =\n",
              "            await google.colab.kernel.invokeFunction('convertToInteractive',\n",
              "                                                     [key], {});\n",
              "          if (!dataTable) return;\n",
              "\n",
              "          const docLinkHtml = 'Like what you see? Visit the ' +\n",
              "            '<a target=\"_blank\" href=https://colab.research.google.com/notebooks/data_table.ipynb>data table notebook</a>'\n",
              "            + ' to learn more about interactive tables.';\n",
              "          element.innerHTML = '';\n",
              "          dataTable['output_type'] = 'display_data';\n",
              "          await google.colab.output.renderOutput(dataTable, element);\n",
              "          const docLink = document.createElement('div');\n",
              "          docLink.innerHTML = docLinkHtml;\n",
              "          element.appendChild(docLink);\n",
              "        }\n",
              "      </script>\n",
              "    </div>\n",
              "  </div>\n",
              "  "
            ]
          },
          "metadata": {},
          "execution_count": 16
        }
      ]
    },
    {
      "cell_type": "markdown",
      "metadata": {
        "id": "sSQyuC9Cqkpr"
      },
      "source": [
        "Veja a nossa nova coluna 'weight_Condition'. Agora vamos aplicar outra função que transforme suas entradas qualitativas em quantitativas, para que nosso algoritmo de machine learning aceite suas entradas."
      ]
    },
    {
      "cell_type": "code",
      "metadata": {
        "colab": {
          "base_uri": "https://localhost:8080/"
        },
        "id": "jdpwQWLnh7SS",
        "outputId": "e7248d46-52ee-4900-c8ad-0bf0f0d730f4"
      },
      "source": [
        "!pip install category_encoders"
      ],
      "execution_count": 17,
      "outputs": [
        {
          "output_type": "stream",
          "name": "stdout",
          "text": [
            "Collecting category_encoders\n",
            "  Downloading category_encoders-2.4.0-py2.py3-none-any.whl (86 kB)\n",
            "\u001b[?25l\r\u001b[K     |███▉                            | 10 kB 29.3 MB/s eta 0:00:01\r\u001b[K     |███████▋                        | 20 kB 8.3 MB/s eta 0:00:01\r\u001b[K     |███████████▍                    | 30 kB 7.5 MB/s eta 0:00:01\r\u001b[K     |███████████████▏                | 40 kB 3.5 MB/s eta 0:00:01\r\u001b[K     |███████████████████             | 51 kB 3.6 MB/s eta 0:00:01\r\u001b[K     |██████████████████████▊         | 61 kB 4.2 MB/s eta 0:00:01\r\u001b[K     |██████████████████████████▌     | 71 kB 4.4 MB/s eta 0:00:01\r\u001b[K     |██████████████████████████████▎ | 81 kB 4.9 MB/s eta 0:00:01\r\u001b[K     |████████████████████████████████| 86 kB 3.0 MB/s \n",
            "\u001b[?25hRequirement already satisfied: numpy>=1.14.0 in /usr/local/lib/python3.7/dist-packages (from category_encoders) (1.21.5)\n",
            "Requirement already satisfied: scipy>=1.0.0 in /usr/local/lib/python3.7/dist-packages (from category_encoders) (1.4.1)\n",
            "Requirement already satisfied: statsmodels>=0.9.0 in /usr/local/lib/python3.7/dist-packages (from category_encoders) (0.10.2)\n",
            "Requirement already satisfied: scikit-learn>=0.20.0 in /usr/local/lib/python3.7/dist-packages (from category_encoders) (1.0.2)\n",
            "Requirement already satisfied: patsy>=0.5.1 in /usr/local/lib/python3.7/dist-packages (from category_encoders) (0.5.2)\n",
            "Requirement already satisfied: pandas>=0.21.1 in /usr/local/lib/python3.7/dist-packages (from category_encoders) (1.3.5)\n",
            "Requirement already satisfied: pytz>=2017.3 in /usr/local/lib/python3.7/dist-packages (from pandas>=0.21.1->category_encoders) (2018.9)\n",
            "Requirement already satisfied: python-dateutil>=2.7.3 in /usr/local/lib/python3.7/dist-packages (from pandas>=0.21.1->category_encoders) (2.8.2)\n",
            "Requirement already satisfied: six in /usr/local/lib/python3.7/dist-packages (from patsy>=0.5.1->category_encoders) (1.15.0)\n",
            "Requirement already satisfied: threadpoolctl>=2.0.0 in /usr/local/lib/python3.7/dist-packages (from scikit-learn>=0.20.0->category_encoders) (3.1.0)\n",
            "Requirement already satisfied: joblib>=0.11 in /usr/local/lib/python3.7/dist-packages (from scikit-learn>=0.20.0->category_encoders) (1.1.0)\n",
            "Installing collected packages: category-encoders\n",
            "Successfully installed category-encoders-2.4.0\n"
          ]
        }
      ]
    },
    {
      "cell_type": "code",
      "metadata": {
        "colab": {
          "base_uri": "https://localhost:8080/",
          "height": 206
        },
        "id": "QtMewRRvoYV4",
        "outputId": "8d905b5d-d0bf-4fc1-a77f-e2975cab6454"
      },
      "source": [
        "# transformando a coluna 'weight_Condition'\n",
        "import category_encoders as ce\n",
        "from sklearn.preprocessing import OrdinalEncoder\n",
        "\n",
        "encoder = ce.OrdinalEncoder(cols=['weight_Condition'], return_df=True,\n",
        "                            mapping=[{'col':'weight_Condition',\n",
        "                                      'mapping':{'Underweight':0,\n",
        "                                                 'Normal':1, \n",
        "                                                 'Overweight':2,\n",
        "                                                 'Obese':3 \n",
        "                                                 }}])\n",
        "\n",
        "insurance_clean = encoder.fit_transform(insurance_clean)\n",
        "insurance_clean.head()"
      ],
      "execution_count": 18,
      "outputs": [
        {
          "output_type": "execute_result",
          "data": {
            "text/plain": [
              "       age    bmi  children      charges  sex  smoker  region_northeast  \\\n",
              "560   46.0  19.95       2.0   9193.83850  0.0     0.0               0.0   \n",
              "1285  47.0  24.32       0.0   8534.67180  0.0     0.0               1.0   \n",
              "1142  52.0  24.86       0.0  27117.99378  0.0     0.0               0.0   \n",
              "969   39.0  34.32       5.0   8596.82780  0.0     0.0               0.0   \n",
              "486   54.0  21.47       3.0  12475.35130  0.0     0.0               0.0   \n",
              "\n",
              "      region_northwest  region_southeast  region_southwest  weight_Condition  \n",
              "560                1.0               0.0               0.0                 1  \n",
              "1285               0.0               0.0               0.0                 1  \n",
              "1142               0.0               1.0               0.0                 1  \n",
              "969                0.0               1.0               0.0                 3  \n",
              "486                1.0               0.0               0.0                 1  "
            ],
            "text/html": [
              "\n",
              "  <div id=\"df-7e609d49-a6b1-42f8-b9c6-c67120cf74f7\">\n",
              "    <div class=\"colab-df-container\">\n",
              "      <div>\n",
              "<style scoped>\n",
              "    .dataframe tbody tr th:only-of-type {\n",
              "        vertical-align: middle;\n",
              "    }\n",
              "\n",
              "    .dataframe tbody tr th {\n",
              "        vertical-align: top;\n",
              "    }\n",
              "\n",
              "    .dataframe thead th {\n",
              "        text-align: right;\n",
              "    }\n",
              "</style>\n",
              "<table border=\"1\" class=\"dataframe\">\n",
              "  <thead>\n",
              "    <tr style=\"text-align: right;\">\n",
              "      <th></th>\n",
              "      <th>age</th>\n",
              "      <th>bmi</th>\n",
              "      <th>children</th>\n",
              "      <th>charges</th>\n",
              "      <th>sex</th>\n",
              "      <th>smoker</th>\n",
              "      <th>region_northeast</th>\n",
              "      <th>region_northwest</th>\n",
              "      <th>region_southeast</th>\n",
              "      <th>region_southwest</th>\n",
              "      <th>weight_Condition</th>\n",
              "    </tr>\n",
              "  </thead>\n",
              "  <tbody>\n",
              "    <tr>\n",
              "      <th>560</th>\n",
              "      <td>46.0</td>\n",
              "      <td>19.95</td>\n",
              "      <td>2.0</td>\n",
              "      <td>9193.83850</td>\n",
              "      <td>0.0</td>\n",
              "      <td>0.0</td>\n",
              "      <td>0.0</td>\n",
              "      <td>1.0</td>\n",
              "      <td>0.0</td>\n",
              "      <td>0.0</td>\n",
              "      <td>1</td>\n",
              "    </tr>\n",
              "    <tr>\n",
              "      <th>1285</th>\n",
              "      <td>47.0</td>\n",
              "      <td>24.32</td>\n",
              "      <td>0.0</td>\n",
              "      <td>8534.67180</td>\n",
              "      <td>0.0</td>\n",
              "      <td>0.0</td>\n",
              "      <td>1.0</td>\n",
              "      <td>0.0</td>\n",
              "      <td>0.0</td>\n",
              "      <td>0.0</td>\n",
              "      <td>1</td>\n",
              "    </tr>\n",
              "    <tr>\n",
              "      <th>1142</th>\n",
              "      <td>52.0</td>\n",
              "      <td>24.86</td>\n",
              "      <td>0.0</td>\n",
              "      <td>27117.99378</td>\n",
              "      <td>0.0</td>\n",
              "      <td>0.0</td>\n",
              "      <td>0.0</td>\n",
              "      <td>0.0</td>\n",
              "      <td>1.0</td>\n",
              "      <td>0.0</td>\n",
              "      <td>1</td>\n",
              "    </tr>\n",
              "    <tr>\n",
              "      <th>969</th>\n",
              "      <td>39.0</td>\n",
              "      <td>34.32</td>\n",
              "      <td>5.0</td>\n",
              "      <td>8596.82780</td>\n",
              "      <td>0.0</td>\n",
              "      <td>0.0</td>\n",
              "      <td>0.0</td>\n",
              "      <td>0.0</td>\n",
              "      <td>1.0</td>\n",
              "      <td>0.0</td>\n",
              "      <td>3</td>\n",
              "    </tr>\n",
              "    <tr>\n",
              "      <th>486</th>\n",
              "      <td>54.0</td>\n",
              "      <td>21.47</td>\n",
              "      <td>3.0</td>\n",
              "      <td>12475.35130</td>\n",
              "      <td>0.0</td>\n",
              "      <td>0.0</td>\n",
              "      <td>0.0</td>\n",
              "      <td>1.0</td>\n",
              "      <td>0.0</td>\n",
              "      <td>0.0</td>\n",
              "      <td>1</td>\n",
              "    </tr>\n",
              "  </tbody>\n",
              "</table>\n",
              "</div>\n",
              "      <button class=\"colab-df-convert\" onclick=\"convertToInteractive('df-7e609d49-a6b1-42f8-b9c6-c67120cf74f7')\"\n",
              "              title=\"Convert this dataframe to an interactive table.\"\n",
              "              style=\"display:none;\">\n",
              "        \n",
              "  <svg xmlns=\"http://www.w3.org/2000/svg\" height=\"24px\"viewBox=\"0 0 24 24\"\n",
              "       width=\"24px\">\n",
              "    <path d=\"M0 0h24v24H0V0z\" fill=\"none\"/>\n",
              "    <path d=\"M18.56 5.44l.94 2.06.94-2.06 2.06-.94-2.06-.94-.94-2.06-.94 2.06-2.06.94zm-11 1L8.5 8.5l.94-2.06 2.06-.94-2.06-.94L8.5 2.5l-.94 2.06-2.06.94zm10 10l.94 2.06.94-2.06 2.06-.94-2.06-.94-.94-2.06-.94 2.06-2.06.94z\"/><path d=\"M17.41 7.96l-1.37-1.37c-.4-.4-.92-.59-1.43-.59-.52 0-1.04.2-1.43.59L10.3 9.45l-7.72 7.72c-.78.78-.78 2.05 0 2.83L4 21.41c.39.39.9.59 1.41.59.51 0 1.02-.2 1.41-.59l7.78-7.78 2.81-2.81c.8-.78.8-2.07 0-2.86zM5.41 20L4 18.59l7.72-7.72 1.47 1.35L5.41 20z\"/>\n",
              "  </svg>\n",
              "      </button>\n",
              "      \n",
              "  <style>\n",
              "    .colab-df-container {\n",
              "      display:flex;\n",
              "      flex-wrap:wrap;\n",
              "      gap: 12px;\n",
              "    }\n",
              "\n",
              "    .colab-df-convert {\n",
              "      background-color: #E8F0FE;\n",
              "      border: none;\n",
              "      border-radius: 50%;\n",
              "      cursor: pointer;\n",
              "      display: none;\n",
              "      fill: #1967D2;\n",
              "      height: 32px;\n",
              "      padding: 0 0 0 0;\n",
              "      width: 32px;\n",
              "    }\n",
              "\n",
              "    .colab-df-convert:hover {\n",
              "      background-color: #E2EBFA;\n",
              "      box-shadow: 0px 1px 2px rgba(60, 64, 67, 0.3), 0px 1px 3px 1px rgba(60, 64, 67, 0.15);\n",
              "      fill: #174EA6;\n",
              "    }\n",
              "\n",
              "    [theme=dark] .colab-df-convert {\n",
              "      background-color: #3B4455;\n",
              "      fill: #D2E3FC;\n",
              "    }\n",
              "\n",
              "    [theme=dark] .colab-df-convert:hover {\n",
              "      background-color: #434B5C;\n",
              "      box-shadow: 0px 1px 3px 1px rgba(0, 0, 0, 0.15);\n",
              "      filter: drop-shadow(0px 1px 2px rgba(0, 0, 0, 0.3));\n",
              "      fill: #FFFFFF;\n",
              "    }\n",
              "  </style>\n",
              "\n",
              "      <script>\n",
              "        const buttonEl =\n",
              "          document.querySelector('#df-7e609d49-a6b1-42f8-b9c6-c67120cf74f7 button.colab-df-convert');\n",
              "        buttonEl.style.display =\n",
              "          google.colab.kernel.accessAllowed ? 'block' : 'none';\n",
              "\n",
              "        async function convertToInteractive(key) {\n",
              "          const element = document.querySelector('#df-7e609d49-a6b1-42f8-b9c6-c67120cf74f7');\n",
              "          const dataTable =\n",
              "            await google.colab.kernel.invokeFunction('convertToInteractive',\n",
              "                                                     [key], {});\n",
              "          if (!dataTable) return;\n",
              "\n",
              "          const docLinkHtml = 'Like what you see? Visit the ' +\n",
              "            '<a target=\"_blank\" href=https://colab.research.google.com/notebooks/data_table.ipynb>data table notebook</a>'\n",
              "            + ' to learn more about interactive tables.';\n",
              "          element.innerHTML = '';\n",
              "          dataTable['output_type'] = 'display_data';\n",
              "          await google.colab.output.renderOutput(dataTable, element);\n",
              "          const docLink = document.createElement('div');\n",
              "          docLink.innerHTML = docLinkHtml;\n",
              "          element.appendChild(docLink);\n",
              "        }\n",
              "      </script>\n",
              "    </div>\n",
              "  </div>\n",
              "  "
            ]
          },
          "metadata": {},
          "execution_count": 18
        }
      ]
    },
    {
      "cell_type": "markdown",
      "metadata": {
        "id": "Ho3PQfiCiOES"
      },
      "source": [
        "Nosso conjunto de dados está praticamente pronto para alimentar os algoritmos de machine learning, vamos seguir para uma última etapa extremamente importante."
      ]
    },
    {
      "cell_type": "markdown",
      "metadata": {
        "id": "ACG7em_0iTL6"
      },
      "source": [
        "### 4.3 - Escalonamento das características\n",
        "Uma das transformações fundamentais que você precisa aplicar aos dados é o escalonamento de características. Salvo raras exceções, os algoritmos de machine learning não funcionam bem quando variáveis numéricas de entrada tem escalas muito diferentes.\n",
        "\n",
        "<center><img src=\"https://raw.githubusercontent.com/carlosfab/dsnp2/master/img/magnitude.jpeg\" height=\"300\"></center>\n",
        "\n",
        "**Geralmente não é necessário escalonar as entradas da variável alvo.**\n",
        "\n",
        "Há duas formas comuns de todas as variáveis terem a mesma escala: *min-max scaler* e *standard scaler*.\n",
        "\n",
        "O escalonamento min-max (muitos chamam de normalização) é bastante simples: os valores são basicamente deslocados e reescalonados de modo que acabam variando de 0 a 1.\n",
        "\n",
        "Com a padronização (standard scaler) a coisa é diferente: ela não vincula valores a um intervalo específico, o que pode ser um problema para alguns algoritmos (por exemplo as redes neurais, que geralmente esperam um valor de entrada que varia de 0 a 1). No entanto, a padronização não é tão afetada pelos outliers."
      ]
    },
    {
      "cell_type": "code",
      "metadata": {
        "colab": {
          "base_uri": "https://localhost:8080/"
        },
        "id": "9ditmWicrPF1",
        "outputId": "18569b51-6f54-463b-9994-d95e701ac9c3"
      },
      "source": [
        "# Cópia do dataframe\n",
        "df_train_final = insurance_clean.copy()\n",
        "\n",
        "# Separar os dados entre feature matrix e target vector\n",
        "X_val = df_train_final.drop('charges', axis=1)\n",
        "y_val = df_train_final['charges']\n",
        "\n",
        "# Escalonamento das variáveis\n",
        "from sklearn.preprocessing import StandardScaler\n",
        "from sklearn import preprocessing\n",
        "scaler = preprocessing.StandardScaler().fit(X_val)\n",
        "X_val_scaled = scaler.transform(X_val)\n",
        "X_val_scaled"
      ],
      "execution_count": 19,
      "outputs": [
        {
          "output_type": "execute_result",
          "data": {
            "text/plain": [
              "array([[ 0.47222651, -1.78829765,  0.73433626, ..., -0.59966106,\n",
              "        -0.5723141 , -1.64560516],\n",
              "       [ 0.54331294, -1.04428512, -0.91119211, ..., -0.59966106,\n",
              "        -0.5723141 , -1.64560516],\n",
              "       [ 0.8987451 , -0.95234765, -0.91119211, ...,  1.66760869,\n",
              "        -0.5723141 , -1.64560516],\n",
              "       ...,\n",
              "       [ 1.3252637 , -0.89871746, -0.91119211, ..., -0.59966106,\n",
              "        -0.5723141 , -0.39946396],\n",
              "       [-0.16755139, -0.0423369 ,  0.73433626, ..., -0.59966106,\n",
              "         1.74729228,  0.84667725],\n",
              "       [ 1.1120044 , -0.09426455, -0.91119211, ..., -0.59966106,\n",
              "         1.74729228, -0.39946396]])"
            ]
          },
          "metadata": {},
          "execution_count": 19
        }
      ]
    },
    {
      "cell_type": "markdown",
      "metadata": {
        "id": "E_SRJpXSuhnW"
      },
      "source": [
        "#### Pipelines\n",
        "Como você pode ver, existem muitas etapas de transformação de dados que precisam ser executadas na ordem correta. Felizmente a Scikit-Learn fornece a classe [Pipeline](https://scikit-learn.org/stable/modules/generated/sklearn.pipeline.Pipeline.html) para ajudar com essas sequências de transformações."
      ]
    },
    {
      "cell_type": "markdown",
      "metadata": {
        "id": "sIygjR5mv0LX"
      },
      "source": [
        "## 5 - Selecionar e treinar um modelo\n",
        "Você abordou o problema, obteve os dados e os explorou, gerou uma amostra de um conjunto de treinamento e de um conjunto de testes e escreveu funções e/ou pipelines de transformação para limpar e preparar seus dados para os algoritmos de machine learning. Agora chegou o momento de escolher e treinar um modelo de machine learning."
      ]
    },
    {
      "cell_type": "markdown",
      "metadata": {
        "id": "T1t9iyWBzv93"
      },
      "source": [
        "### 5.1 - Baseline\n",
        "\n",
        "Gosto de começar essa seleção de algoritmos definindo um baseline. Esse modelo base, será uma espécie de guia, o desempenho a ser batido. Faremos esse modelo com um algoritmo rápido e simples, a [regressão linear](https://scikit-learn.org/stable/modules/generated/sklearn.linear_model.LinearRegression.html).\n",
        "\n",
        "Avaliaremos os modelos utilizando a validação cruzada para evitar o *overfitting*, uma boa alternativa é usar o método *k-fold*. O código a seguir divide aleatoriamente o conjunto de treinamento em cinco subconjuntos distintos chamados *folds*, depois treina e avalia o modelo cinco vezes, escolhendo sempre um fold diferente para avaliação e treinamento dos outros quatro folds. O resultado é um array que contém cinco classificações de avaliação."
      ]
    },
    {
      "cell_type": "code",
      "metadata": {
        "colab": {
          "base_uri": "https://localhost:8080/"
        },
        "id": "efLcBnrh1cSt",
        "outputId": "bf3e5136-cf3a-4e32-9911-9543e30ec2ca"
      },
      "source": [
        "# Treinando e avaliando o baseline\n",
        "from sklearn.linear_model import LinearRegression\n",
        "from sklearn.model_selection import cross_val_score\n",
        "\n",
        "lin_reg = LinearRegression()\n",
        "lin_scores = cross_val_score(lin_reg, X_val_scaled, y_val,\n",
        "                             scoring = 'neg_mean_squared_error', cv = 5)\n",
        "lin_rmse_scores = np.sqrt(-lin_scores)\n",
        "\n",
        "# Função de avaliação dos resultados\n",
        "def display_scores(scores):\n",
        "  print('Scores:', scores)\n",
        "  print('Média:', scores.mean())\n",
        "  print('Desvio Padrão:', scores.std())\n",
        "\n",
        "# Avaliação do baseline\n",
        "display_scores(lin_rmse_scores)"
      ],
      "execution_count": 20,
      "outputs": [
        {
          "output_type": "stream",
          "name": "stdout",
          "text": [
            "Scores: [6317.74383243 5574.78828225 5953.68319104 6820.30434157 5913.02639459]\n",
            "Média: 6115.909208374452\n",
            "Desvio Padrão: 423.6036573607441\n"
          ]
        }
      ]
    },
    {
      "cell_type": "markdown",
      "metadata": {
        "id": "1m6XTIZ1nnIB"
      },
      "source": [
        "Esse é o desempenho base, que vamos tentar melhorar com outros modelos."
      ]
    },
    {
      "cell_type": "markdown",
      "metadata": {
        "id": "OhoVOJQgB4Y8"
      },
      "source": [
        "### 5.2 - Avaliando outros modelos\n",
        "Você deve testar muitos outros modelos de diversas categorias de algoritmos de machine learning, sem despender muito tempo aprimorando os hiperparâmetros. O objetivo é selecionar alguns (dois a cinco) modelos promissores."
      ]
    },
    {
      "cell_type": "code",
      "metadata": {
        "colab": {
          "base_uri": "https://localhost:8080/",
          "height": 269
        },
        "id": "RM44mTuzBinz",
        "outputId": "f9648331-c2ec-4fe8-ff8f-df643652ecba"
      },
      "source": [
        "# Importando os pacotes dos modelos a serem avaliados\n",
        "from sklearn.tree import DecisionTreeRegressor\n",
        "from sklearn.ensemble import RandomForestRegressor\n",
        "from sklearn import svm\n",
        "from sklearn.linear_model import SGDRegressor\n",
        "from sklearn.ensemble import GradientBoostingRegressor\n",
        "from sklearn.ensemble import VotingRegressor\n",
        "from sklearn.cross_decomposition import PLSRegression\n",
        "from sklearn.neural_network import MLPRegressor\n",
        "\n",
        "# Instanciar os modelos\n",
        "tree_reg = DecisionTreeRegressor()\n",
        "rf_reg = RandomForestRegressor()\n",
        "svm_reg = svm.SVR()\n",
        "sgd_reg = SGDRegressor()\n",
        "gbr_reg = GradientBoostingRegressor()\n",
        "pls_reg = PLSRegression()\n",
        "mlp_reg = MLPRegressor()\n",
        "\n",
        "# Treinar e avaliar os modelos\n",
        "df_result = pd.DataFrame()\n",
        "for model in (tree_reg, rf_reg, svm_reg, sgd_reg, gbr_reg, pls_reg, mlp_reg):\n",
        "    scores = cross_val_score(model, X_val_scaled, y_val,\n",
        "                             scoring = 'neg_mean_squared_error', cv = 5)\n",
        "    rmse_scores = np.sqrt(-scores)\n",
        "    mean = rmse_scores.mean()\n",
        "    std = rmse_scores.std()\n",
        "    df_result = df_result.append({\n",
        "                                  'MODELO': model, 'SCORES': rmse_scores, \n",
        "                                  'MEDIA_SCORES': mean, 'STD_SCORES': std \n",
        "                                  }, ignore_index=True)\n",
        "    \n",
        "# Organizar o dataframe\n",
        "# Dividindo a lista de scores em colunas separadas\n",
        "df_scores = df_result['SCORES'].apply(pd.Series)\n",
        "df_scores.columns=[\"SCORE_1\", \"SCORE_2\", \"SCORE_3\",\"SCORE_4\", \"SCORE_5\"]\n",
        "\n",
        "# Concatenando os dataframes formados\n",
        "df_result = pd.concat([df_result, df_scores], axis=1)\n",
        "\n",
        "# Excluindo a coluna 'SCORES'\n",
        "df_result.drop('SCORES', axis=1, inplace=True)\n",
        "\n",
        "# Transformando a coluna 'MODELO' em string\n",
        "df_result['MODELO'] = df_result['MODELO'].astype('string')\n",
        "\n",
        "# Reorganizando o dataframe final\n",
        "df_result = df_result[['MODELO', 'SCORE_1', 'SCORE_2', 'SCORE_3',\n",
        "                       'SCORE_4', 'SCORE_5','MEDIA_SCORES', 'STD_SCORES']]\n",
        "\n",
        "# Eliminar caracteres indesejados na coluna 'MODELO'\n",
        "def corrigir_nomes(nome):\n",
        "    nome = nome.replace('()', '')\n",
        "    return nome\n",
        "df_result['MODELO'] = df_result['MODELO'].apply(corrigir_nomes)\n",
        "\n",
        "df_result"
      ],
      "execution_count": 21,
      "outputs": [
        {
          "output_type": "execute_result",
          "data": {
            "text/plain": [
              "                      MODELO       SCORE_1       SCORE_2       SCORE_3  \\\n",
              "0      DecisionTreeRegressor   6167.604021   6107.639450   6748.455438   \n",
              "1      RandomForestRegressor   5053.999807   3919.211787   5158.539377   \n",
              "2                        SVR  12516.187999  13743.507907  11779.313371   \n",
              "3               SGDRegressor   6313.593290   5559.939795   5946.623089   \n",
              "4  GradientBoostingRegressor   4849.199670   3587.634942   4767.484100   \n",
              "5              PLSRegression   6337.833428   5650.302053   5830.904192   \n",
              "6               MLPRegressor  17588.836195  18917.187393  16669.557918   \n",
              "\n",
              "        SCORE_4       SCORE_5  MEDIA_SCORES  STD_SCORES  \n",
              "0   7069.638856   5786.137061   6375.894965  465.455135  \n",
              "1   5481.290747   5004.900457   4923.588435  528.890354  \n",
              "2  12247.705470  12562.846909  12569.912331  649.480835  \n",
              "3   6757.512001   5916.360330   6098.805701  406.657109  \n",
              "4   5375.927664   4849.459615   4685.941198  590.321743  \n",
              "5   6810.758633   5924.776660   6110.914993  416.290981  \n",
              "6  17346.016122  17294.075790  17563.134683  741.907259  "
            ],
            "text/html": [
              "\n",
              "  <div id=\"df-8b705ae5-f403-453b-85d5-70b27d85891d\">\n",
              "    <div class=\"colab-df-container\">\n",
              "      <div>\n",
              "<style scoped>\n",
              "    .dataframe tbody tr th:only-of-type {\n",
              "        vertical-align: middle;\n",
              "    }\n",
              "\n",
              "    .dataframe tbody tr th {\n",
              "        vertical-align: top;\n",
              "    }\n",
              "\n",
              "    .dataframe thead th {\n",
              "        text-align: right;\n",
              "    }\n",
              "</style>\n",
              "<table border=\"1\" class=\"dataframe\">\n",
              "  <thead>\n",
              "    <tr style=\"text-align: right;\">\n",
              "      <th></th>\n",
              "      <th>MODELO</th>\n",
              "      <th>SCORE_1</th>\n",
              "      <th>SCORE_2</th>\n",
              "      <th>SCORE_3</th>\n",
              "      <th>SCORE_4</th>\n",
              "      <th>SCORE_5</th>\n",
              "      <th>MEDIA_SCORES</th>\n",
              "      <th>STD_SCORES</th>\n",
              "    </tr>\n",
              "  </thead>\n",
              "  <tbody>\n",
              "    <tr>\n",
              "      <th>0</th>\n",
              "      <td>DecisionTreeRegressor</td>\n",
              "      <td>6167.604021</td>\n",
              "      <td>6107.639450</td>\n",
              "      <td>6748.455438</td>\n",
              "      <td>7069.638856</td>\n",
              "      <td>5786.137061</td>\n",
              "      <td>6375.894965</td>\n",
              "      <td>465.455135</td>\n",
              "    </tr>\n",
              "    <tr>\n",
              "      <th>1</th>\n",
              "      <td>RandomForestRegressor</td>\n",
              "      <td>5053.999807</td>\n",
              "      <td>3919.211787</td>\n",
              "      <td>5158.539377</td>\n",
              "      <td>5481.290747</td>\n",
              "      <td>5004.900457</td>\n",
              "      <td>4923.588435</td>\n",
              "      <td>528.890354</td>\n",
              "    </tr>\n",
              "    <tr>\n",
              "      <th>2</th>\n",
              "      <td>SVR</td>\n",
              "      <td>12516.187999</td>\n",
              "      <td>13743.507907</td>\n",
              "      <td>11779.313371</td>\n",
              "      <td>12247.705470</td>\n",
              "      <td>12562.846909</td>\n",
              "      <td>12569.912331</td>\n",
              "      <td>649.480835</td>\n",
              "    </tr>\n",
              "    <tr>\n",
              "      <th>3</th>\n",
              "      <td>SGDRegressor</td>\n",
              "      <td>6313.593290</td>\n",
              "      <td>5559.939795</td>\n",
              "      <td>5946.623089</td>\n",
              "      <td>6757.512001</td>\n",
              "      <td>5916.360330</td>\n",
              "      <td>6098.805701</td>\n",
              "      <td>406.657109</td>\n",
              "    </tr>\n",
              "    <tr>\n",
              "      <th>4</th>\n",
              "      <td>GradientBoostingRegressor</td>\n",
              "      <td>4849.199670</td>\n",
              "      <td>3587.634942</td>\n",
              "      <td>4767.484100</td>\n",
              "      <td>5375.927664</td>\n",
              "      <td>4849.459615</td>\n",
              "      <td>4685.941198</td>\n",
              "      <td>590.321743</td>\n",
              "    </tr>\n",
              "    <tr>\n",
              "      <th>5</th>\n",
              "      <td>PLSRegression</td>\n",
              "      <td>6337.833428</td>\n",
              "      <td>5650.302053</td>\n",
              "      <td>5830.904192</td>\n",
              "      <td>6810.758633</td>\n",
              "      <td>5924.776660</td>\n",
              "      <td>6110.914993</td>\n",
              "      <td>416.290981</td>\n",
              "    </tr>\n",
              "    <tr>\n",
              "      <th>6</th>\n",
              "      <td>MLPRegressor</td>\n",
              "      <td>17588.836195</td>\n",
              "      <td>18917.187393</td>\n",
              "      <td>16669.557918</td>\n",
              "      <td>17346.016122</td>\n",
              "      <td>17294.075790</td>\n",
              "      <td>17563.134683</td>\n",
              "      <td>741.907259</td>\n",
              "    </tr>\n",
              "  </tbody>\n",
              "</table>\n",
              "</div>\n",
              "      <button class=\"colab-df-convert\" onclick=\"convertToInteractive('df-8b705ae5-f403-453b-85d5-70b27d85891d')\"\n",
              "              title=\"Convert this dataframe to an interactive table.\"\n",
              "              style=\"display:none;\">\n",
              "        \n",
              "  <svg xmlns=\"http://www.w3.org/2000/svg\" height=\"24px\"viewBox=\"0 0 24 24\"\n",
              "       width=\"24px\">\n",
              "    <path d=\"M0 0h24v24H0V0z\" fill=\"none\"/>\n",
              "    <path d=\"M18.56 5.44l.94 2.06.94-2.06 2.06-.94-2.06-.94-.94-2.06-.94 2.06-2.06.94zm-11 1L8.5 8.5l.94-2.06 2.06-.94-2.06-.94L8.5 2.5l-.94 2.06-2.06.94zm10 10l.94 2.06.94-2.06 2.06-.94-2.06-.94-.94-2.06-.94 2.06-2.06.94z\"/><path d=\"M17.41 7.96l-1.37-1.37c-.4-.4-.92-.59-1.43-.59-.52 0-1.04.2-1.43.59L10.3 9.45l-7.72 7.72c-.78.78-.78 2.05 0 2.83L4 21.41c.39.39.9.59 1.41.59.51 0 1.02-.2 1.41-.59l7.78-7.78 2.81-2.81c.8-.78.8-2.07 0-2.86zM5.41 20L4 18.59l7.72-7.72 1.47 1.35L5.41 20z\"/>\n",
              "  </svg>\n",
              "      </button>\n",
              "      \n",
              "  <style>\n",
              "    .colab-df-container {\n",
              "      display:flex;\n",
              "      flex-wrap:wrap;\n",
              "      gap: 12px;\n",
              "    }\n",
              "\n",
              "    .colab-df-convert {\n",
              "      background-color: #E8F0FE;\n",
              "      border: none;\n",
              "      border-radius: 50%;\n",
              "      cursor: pointer;\n",
              "      display: none;\n",
              "      fill: #1967D2;\n",
              "      height: 32px;\n",
              "      padding: 0 0 0 0;\n",
              "      width: 32px;\n",
              "    }\n",
              "\n",
              "    .colab-df-convert:hover {\n",
              "      background-color: #E2EBFA;\n",
              "      box-shadow: 0px 1px 2px rgba(60, 64, 67, 0.3), 0px 1px 3px 1px rgba(60, 64, 67, 0.15);\n",
              "      fill: #174EA6;\n",
              "    }\n",
              "\n",
              "    [theme=dark] .colab-df-convert {\n",
              "      background-color: #3B4455;\n",
              "      fill: #D2E3FC;\n",
              "    }\n",
              "\n",
              "    [theme=dark] .colab-df-convert:hover {\n",
              "      background-color: #434B5C;\n",
              "      box-shadow: 0px 1px 3px 1px rgba(0, 0, 0, 0.15);\n",
              "      filter: drop-shadow(0px 1px 2px rgba(0, 0, 0, 0.3));\n",
              "      fill: #FFFFFF;\n",
              "    }\n",
              "  </style>\n",
              "\n",
              "      <script>\n",
              "        const buttonEl =\n",
              "          document.querySelector('#df-8b705ae5-f403-453b-85d5-70b27d85891d button.colab-df-convert');\n",
              "        buttonEl.style.display =\n",
              "          google.colab.kernel.accessAllowed ? 'block' : 'none';\n",
              "\n",
              "        async function convertToInteractive(key) {\n",
              "          const element = document.querySelector('#df-8b705ae5-f403-453b-85d5-70b27d85891d');\n",
              "          const dataTable =\n",
              "            await google.colab.kernel.invokeFunction('convertToInteractive',\n",
              "                                                     [key], {});\n",
              "          if (!dataTable) return;\n",
              "\n",
              "          const docLinkHtml = 'Like what you see? Visit the ' +\n",
              "            '<a target=\"_blank\" href=https://colab.research.google.com/notebooks/data_table.ipynb>data table notebook</a>'\n",
              "            + ' to learn more about interactive tables.';\n",
              "          element.innerHTML = '';\n",
              "          dataTable['output_type'] = 'display_data';\n",
              "          await google.colab.output.renderOutput(dataTable, element);\n",
              "          const docLink = document.createElement('div');\n",
              "          docLink.innerHTML = docLinkHtml;\n",
              "          element.appendChild(docLink);\n",
              "        }\n",
              "      </script>\n",
              "    </div>\n",
              "  </div>\n",
              "  "
            ]
          },
          "metadata": {},
          "execution_count": 21
        }
      ]
    },
    {
      "cell_type": "markdown",
      "metadata": {
        "id": "pkMtmLsbn62R"
      },
      "source": [
        "Conseguimos melhorar ainda mais nosso desempenho, veja os modelos *Random Forest* e o *Gradient Boosting*, eles tiveram um desempenho bem melhor em comparação aos outros modelos e ao baseline. Nesse caso, não há dúvidas sobre quais modelos prosseguir com a otimização do desempenho, é hora de aperfeiçoar ainda mais."
      ]
    },
    {
      "cell_type": "markdown",
      "metadata": {
        "id": "uMjjtPcYSdsF"
      },
      "source": [
        "### 5.3 - Salvar o modelo\n",
        "Você deve salvar todos os modelos testados de modo que possa usá-los facilmente depois. Salve os hiperparâmetros e os parâmetros treinados, bem como os scores de validação cruzada. Isso possibilitará que você compare facilmente os scores entre os tipos de modelo e os tipos de erro que eles cometem."
      ]
    },
    {
      "cell_type": "code",
      "metadata": {
        "id": "LTqBWo9LTBNu"
      },
      "source": [
        "# Salvando o modelo com a biblioteca joblib\n",
        "# 1. Modelo random forest\n",
        "import joblib\n",
        "model_1 = joblib.dump(rf_reg, 'rf_model.pkl')\n",
        "\n",
        "# 2. Modelo gradient boosting\n",
        "model_2 = joblib.dump(gbr_reg, 'gb_model.pkl')"
      ],
      "execution_count": 22,
      "outputs": []
    },
    {
      "cell_type": "markdown",
      "metadata": {
        "id": "QOaxgB-mpea5"
      },
      "source": [
        "## 6 - Aperfeiçoe seu modelo\n",
        "\n",
        "Supondo que você já tenha uma lista restrita de modelos promissores e, agora, você tem que aperfeiçoá-los. Vejamos alguns modos de fazer isso. No nosso caso temos o *Random Forest* e o *Gradient Boosting*.\n",
        "\n",
        "Temos basicamente dois métodos mais utilizados para aperfeiçoar os hiperparâmetros dos modelos que são o *Grid Search* e o *Randomized Search*. \n",
        "\n",
        "Utilizarei o *Grid Search* para otimizar os hiperparâmetros do *Random Forest* e o *Randomized Search* para o *Gradient Boosting*."
      ]
    },
    {
      "cell_type": "markdown",
      "metadata": {
        "id": "a6wJUQGCXthG"
      },
      "source": [
        "### 6.1 - Grid search\n",
        "Esse é um método de otimização exaustiva, onde você passa quais hiperparâmetros e valores deseja que ele teste, e ele avaliará todas as combinações de valores possíveis por meio da validação cruzada. Lembrando que esse é um método caro computacionalmente.\n",
        "\n"
      ]
    },
    {
      "cell_type": "code",
      "metadata": {
        "id": "jLPvzBMLm5Vk",
        "colab": {
          "base_uri": "https://localhost:8080/"
        },
        "outputId": "683e73d1-35c5-4f02-954e-22aeb5022650"
      },
      "source": [
        "# Buscando valores ótimos de hiperparâmetros com o gridsearch\n",
        "from sklearn.model_selection import GridSearchCV\n",
        "\n",
        "# Modelo random forest\n",
        "# Definindo os hiperparâmetros e os ranges a serem testados\n",
        "param_grid = [\n",
        "{'n_estimators': [10, 50, 100, 150], 'max_features': ['auto', 'sqrt', 'log2'],\n",
        " 'min_samples_leaf': [1, 3, 5], 'bootstrap': [True, False]}\n",
        "]\n",
        "\n",
        "# Instanciando e treinando o modelo\n",
        "forest_reg = RandomForestRegressor()\n",
        "grid_search = GridSearchCV(forest_reg, param_grid, cv = 5,\n",
        "                           scoring = 'neg_mean_squared_error',\n",
        "                           return_train_score = True)\n",
        "grid_search.fit(X_val_scaled, y_val)\n",
        "\n",
        "# Obtendo os melhores parâmetros para o random forest\n",
        "print('Os melhores hiperparâmetros encontrados foram:', grid_search.best_params_)"
      ],
      "execution_count": 23,
      "outputs": [
        {
          "output_type": "stream",
          "name": "stdout",
          "text": [
            "Os melhores hiperparâmetros encontrados foram: {'bootstrap': True, 'max_features': 'auto', 'min_samples_leaf': 5, 'n_estimators': 150}\n"
          ]
        }
      ]
    },
    {
      "cell_type": "code",
      "metadata": {
        "colab": {
          "base_uri": "https://localhost:8080/"
        },
        "id": "nbn7jjrMfK9o",
        "outputId": "3c8a7b32-7a23-4cbb-b4d8-ed06f8391fca"
      },
      "source": [
        "# Obtendo os melhores scores e parâmetros para o random forest\n",
        "cvres = grid_search.cv_results_\n",
        "for mean_score, params in zip(cvres['mean_test_score'], cvres['params']):\n",
        "  print(np.sqrt(-mean_score), params)"
      ],
      "execution_count": 24,
      "outputs": [
        {
          "output_type": "stream",
          "name": "stdout",
          "text": [
            "5127.877578680974 {'bootstrap': True, 'max_features': 'auto', 'min_samples_leaf': 1, 'n_estimators': 10}\n",
            "4945.951704413252 {'bootstrap': True, 'max_features': 'auto', 'min_samples_leaf': 1, 'n_estimators': 50}\n",
            "4930.838491950503 {'bootstrap': True, 'max_features': 'auto', 'min_samples_leaf': 1, 'n_estimators': 100}\n",
            "4931.8692657434385 {'bootstrap': True, 'max_features': 'auto', 'min_samples_leaf': 1, 'n_estimators': 150}\n",
            "4848.784286185772 {'bootstrap': True, 'max_features': 'auto', 'min_samples_leaf': 3, 'n_estimators': 10}\n",
            "4773.230995946099 {'bootstrap': True, 'max_features': 'auto', 'min_samples_leaf': 3, 'n_estimators': 50}\n",
            "4743.877065017187 {'bootstrap': True, 'max_features': 'auto', 'min_samples_leaf': 3, 'n_estimators': 100}\n",
            "4744.297269590435 {'bootstrap': True, 'max_features': 'auto', 'min_samples_leaf': 3, 'n_estimators': 150}\n",
            "4781.735068704946 {'bootstrap': True, 'max_features': 'auto', 'min_samples_leaf': 5, 'n_estimators': 10}\n",
            "4723.162909466099 {'bootstrap': True, 'max_features': 'auto', 'min_samples_leaf': 5, 'n_estimators': 50}\n",
            "4733.335424421705 {'bootstrap': True, 'max_features': 'auto', 'min_samples_leaf': 5, 'n_estimators': 100}\n",
            "4708.228373913037 {'bootstrap': True, 'max_features': 'auto', 'min_samples_leaf': 5, 'n_estimators': 150}\n",
            "5141.41509968863 {'bootstrap': True, 'max_features': 'sqrt', 'min_samples_leaf': 1, 'n_estimators': 10}\n",
            "4887.436704845848 {'bootstrap': True, 'max_features': 'sqrt', 'min_samples_leaf': 1, 'n_estimators': 50}\n",
            "4849.708304936118 {'bootstrap': True, 'max_features': 'sqrt', 'min_samples_leaf': 1, 'n_estimators': 100}\n",
            "4829.723293451666 {'bootstrap': True, 'max_features': 'sqrt', 'min_samples_leaf': 1, 'n_estimators': 150}\n",
            "5151.678140491792 {'bootstrap': True, 'max_features': 'sqrt', 'min_samples_leaf': 3, 'n_estimators': 10}\n",
            "4835.281796340148 {'bootstrap': True, 'max_features': 'sqrt', 'min_samples_leaf': 3, 'n_estimators': 50}\n",
            "4850.162021764995 {'bootstrap': True, 'max_features': 'sqrt', 'min_samples_leaf': 3, 'n_estimators': 100}\n",
            "4828.242572237914 {'bootstrap': True, 'max_features': 'sqrt', 'min_samples_leaf': 3, 'n_estimators': 150}\n",
            "5027.54496561163 {'bootstrap': True, 'max_features': 'sqrt', 'min_samples_leaf': 5, 'n_estimators': 10}\n",
            "5059.450867236339 {'bootstrap': True, 'max_features': 'sqrt', 'min_samples_leaf': 5, 'n_estimators': 50}\n",
            "4916.728114030547 {'bootstrap': True, 'max_features': 'sqrt', 'min_samples_leaf': 5, 'n_estimators': 100}\n",
            "4938.746633542565 {'bootstrap': True, 'max_features': 'sqrt', 'min_samples_leaf': 5, 'n_estimators': 150}\n",
            "5309.13840833517 {'bootstrap': True, 'max_features': 'log2', 'min_samples_leaf': 1, 'n_estimators': 10}\n",
            "4786.52142411481 {'bootstrap': True, 'max_features': 'log2', 'min_samples_leaf': 1, 'n_estimators': 50}\n",
            "4841.547669074373 {'bootstrap': True, 'max_features': 'log2', 'min_samples_leaf': 1, 'n_estimators': 100}\n",
            "4816.401991963634 {'bootstrap': True, 'max_features': 'log2', 'min_samples_leaf': 1, 'n_estimators': 150}\n",
            "4993.779638931325 {'bootstrap': True, 'max_features': 'log2', 'min_samples_leaf': 3, 'n_estimators': 10}\n",
            "4943.382277287762 {'bootstrap': True, 'max_features': 'log2', 'min_samples_leaf': 3, 'n_estimators': 50}\n",
            "4832.909160291528 {'bootstrap': True, 'max_features': 'log2', 'min_samples_leaf': 3, 'n_estimators': 100}\n",
            "4816.979200892182 {'bootstrap': True, 'max_features': 'log2', 'min_samples_leaf': 3, 'n_estimators': 150}\n",
            "5058.803918462558 {'bootstrap': True, 'max_features': 'log2', 'min_samples_leaf': 5, 'n_estimators': 10}\n",
            "4985.108975986197 {'bootstrap': True, 'max_features': 'log2', 'min_samples_leaf': 5, 'n_estimators': 50}\n",
            "4922.332963914871 {'bootstrap': True, 'max_features': 'log2', 'min_samples_leaf': 5, 'n_estimators': 100}\n",
            "4897.416161910154 {'bootstrap': True, 'max_features': 'log2', 'min_samples_leaf': 5, 'n_estimators': 150}\n",
            "6342.328470069783 {'bootstrap': False, 'max_features': 'auto', 'min_samples_leaf': 1, 'n_estimators': 10}\n",
            "6318.158679772834 {'bootstrap': False, 'max_features': 'auto', 'min_samples_leaf': 1, 'n_estimators': 50}\n",
            "6316.455008691867 {'bootstrap': False, 'max_features': 'auto', 'min_samples_leaf': 1, 'n_estimators': 100}\n",
            "6321.332307312964 {'bootstrap': False, 'max_features': 'auto', 'min_samples_leaf': 1, 'n_estimators': 150}\n",
            "5652.127577096021 {'bootstrap': False, 'max_features': 'auto', 'min_samples_leaf': 3, 'n_estimators': 10}\n",
            "5665.021895280067 {'bootstrap': False, 'max_features': 'auto', 'min_samples_leaf': 3, 'n_estimators': 50}\n",
            "5663.144582362195 {'bootstrap': False, 'max_features': 'auto', 'min_samples_leaf': 3, 'n_estimators': 100}\n",
            "5656.054614822954 {'bootstrap': False, 'max_features': 'auto', 'min_samples_leaf': 3, 'n_estimators': 150}\n",
            "5153.808923158694 {'bootstrap': False, 'max_features': 'auto', 'min_samples_leaf': 5, 'n_estimators': 10}\n",
            "5153.43857579743 {'bootstrap': False, 'max_features': 'auto', 'min_samples_leaf': 5, 'n_estimators': 50}\n",
            "5152.7748157190645 {'bootstrap': False, 'max_features': 'auto', 'min_samples_leaf': 5, 'n_estimators': 100}\n",
            "5154.936582125079 {'bootstrap': False, 'max_features': 'auto', 'min_samples_leaf': 5, 'n_estimators': 150}\n",
            "5236.648962882399 {'bootstrap': False, 'max_features': 'sqrt', 'min_samples_leaf': 1, 'n_estimators': 10}\n",
            "4950.243110974549 {'bootstrap': False, 'max_features': 'sqrt', 'min_samples_leaf': 1, 'n_estimators': 50}\n",
            "4989.428845910015 {'bootstrap': False, 'max_features': 'sqrt', 'min_samples_leaf': 1, 'n_estimators': 100}\n",
            "4962.752800298637 {'bootstrap': False, 'max_features': 'sqrt', 'min_samples_leaf': 1, 'n_estimators': 150}\n",
            "4890.604045965259 {'bootstrap': False, 'max_features': 'sqrt', 'min_samples_leaf': 3, 'n_estimators': 10}\n",
            "4809.833982928215 {'bootstrap': False, 'max_features': 'sqrt', 'min_samples_leaf': 3, 'n_estimators': 50}\n",
            "4805.835266011501 {'bootstrap': False, 'max_features': 'sqrt', 'min_samples_leaf': 3, 'n_estimators': 100}\n",
            "4797.239456682931 {'bootstrap': False, 'max_features': 'sqrt', 'min_samples_leaf': 3, 'n_estimators': 150}\n",
            "4948.468642220978 {'bootstrap': False, 'max_features': 'sqrt', 'min_samples_leaf': 5, 'n_estimators': 10}\n",
            "4876.4818542236 {'bootstrap': False, 'max_features': 'sqrt', 'min_samples_leaf': 5, 'n_estimators': 50}\n",
            "4850.536804407159 {'bootstrap': False, 'max_features': 'sqrt', 'min_samples_leaf': 5, 'n_estimators': 100}\n",
            "4813.716257313957 {'bootstrap': False, 'max_features': 'sqrt', 'min_samples_leaf': 5, 'n_estimators': 150}\n",
            "5135.95003004057 {'bootstrap': False, 'max_features': 'log2', 'min_samples_leaf': 1, 'n_estimators': 10}\n",
            "5015.564790998481 {'bootstrap': False, 'max_features': 'log2', 'min_samples_leaf': 1, 'n_estimators': 50}\n",
            "4970.839785843879 {'bootstrap': False, 'max_features': 'log2', 'min_samples_leaf': 1, 'n_estimators': 100}\n",
            "4975.566276010564 {'bootstrap': False, 'max_features': 'log2', 'min_samples_leaf': 1, 'n_estimators': 150}\n",
            "4933.626059529282 {'bootstrap': False, 'max_features': 'log2', 'min_samples_leaf': 3, 'n_estimators': 10}\n",
            "4807.597146432588 {'bootstrap': False, 'max_features': 'log2', 'min_samples_leaf': 3, 'n_estimators': 50}\n",
            "4810.575187984224 {'bootstrap': False, 'max_features': 'log2', 'min_samples_leaf': 3, 'n_estimators': 100}\n",
            "4784.943793415796 {'bootstrap': False, 'max_features': 'log2', 'min_samples_leaf': 3, 'n_estimators': 150}\n",
            "4963.988069671203 {'bootstrap': False, 'max_features': 'log2', 'min_samples_leaf': 5, 'n_estimators': 10}\n",
            "4914.8392087588245 {'bootstrap': False, 'max_features': 'log2', 'min_samples_leaf': 5, 'n_estimators': 50}\n",
            "4825.37816179436 {'bootstrap': False, 'max_features': 'log2', 'min_samples_leaf': 5, 'n_estimators': 100}\n",
            "4850.748375556044 {'bootstrap': False, 'max_features': 'log2', 'min_samples_leaf': 5, 'n_estimators': 150}\n"
          ]
        }
      ]
    },
    {
      "cell_type": "markdown",
      "metadata": {
        "id": "hSjf_VuamZ-V"
      },
      "source": [
        "Veja que foi possível melhorar um pouco o score do modelo."
      ]
    },
    {
      "cell_type": "markdown",
      "metadata": {
        "id": "-HRNRB2jj3BN"
      },
      "source": [
        "### 6.2 - Randomized search\n",
        "A abordagem do grid search é boa quando você está explorando poucas combinações, já que é um modelo exaustivo. Quando o espaço de pesquisa de hiperparâmetro é grande, geralmente é preferível usar a *RandomizedSearchCV*. Essa classe pode ser usada da mesma maneira que o *GridSearchCV*, no entanto, em vez de testar todas as combinações possíveis, ela avalia um determinado número de combinações aleatórias, ao selecionar um valor aleatório para cada hiperparâmetro a cada iteração.\n",
        "\n",
        "Com o *RandomizedSearchCV* você consegue obter mais controle computacional, basta definir o número de iterações."
      ]
    },
    {
      "cell_type": "code",
      "metadata": {
        "colab": {
          "base_uri": "https://localhost:8080/"
        },
        "id": "AcVrQsvLlFMO",
        "outputId": "41ffbce7-4700-4151-e113-591f70fc4218"
      },
      "source": [
        "# Buscando valores ótimos de hiperparâmetros com o randomized search\n",
        "from sklearn.model_selection import RandomizedSearchCV\n",
        "\n",
        "# Modelo gradient boosting\n",
        "# Definindo os hiperparâmetros e os ranges a serem testados\n",
        "param_rand = [\n",
        "{'n_estimators': [1 ,5 ,10, 50, 100, 150, 200, 250], 'max_features': ['auto', 'sqrt', 'log2'],\n",
        " 'min_samples_leaf': [1, 3, 5, 8, 12, 20, 32], 'learning_rate': [0.1, 0.5, 1, 5, 10, 15, 20],\n",
        " 'min_samples_split': [1, 2, 5, 10, 20, 30], 'max_depth': [1, 3, 5, 8, 12, 20, 32]}\n",
        "]\n",
        "\n",
        "# Instanciando e treinando o modelo\n",
        "gradient_reg = GradientBoostingRegressor()\n",
        "rnd_search = RandomizedSearchCV(gradient_reg, param_rand, cv = 5,\n",
        "                                scoring = 'neg_mean_squared_error',\n",
        "                                return_train_score = True, n_iter=100)\n",
        "rnd_search.fit(X_val_scaled, y_val)\n",
        "cvres = rnd_search.best_score_\n",
        "mean_score = np.sqrt(-cvres)\n",
        "# Obtendo os melhores parâmetros para o gradient boosting\n",
        "print('Os melhores hiperparâmetros encontrados foram:\\n', rnd_search.best_params_,\n",
        "      '\\nCom o score de:', mean_score)"
      ],
      "execution_count": 25,
      "outputs": [
        {
          "output_type": "stream",
          "name": "stdout",
          "text": [
            "Os melhores hiperparâmetros encontrados foram:\n",
            " {'n_estimators': 5, 'min_samples_split': 20, 'min_samples_leaf': 32, 'max_features': 'auto', 'max_depth': 3, 'learning_rate': 0.5} \n",
            "Com o score de: 4590.066819352116\n"
          ]
        }
      ]
    },
    {
      "cell_type": "markdown",
      "metadata": {
        "id": "NYP32ZJduCKK"
      },
      "source": [
        "### 6.3 - Analise os melhores modelos e seus erros\n",
        "Muitas vezes, você obtém informações reveladoras sobre o problema inspecionando os melhores modelos. Por exemplo, o *RandomForestRegressor* pode indicar a importância relativa de cada variável para realizar predições precisas."
      ]
    },
    {
      "cell_type": "code",
      "metadata": {
        "colab": {
          "base_uri": "https://localhost:8080/"
        },
        "id": "QjM2yj28sN-c",
        "outputId": "7343049a-ebb5-483e-d675-ac22ac957937"
      },
      "source": [
        "# scores de importância das variáveis\n",
        "feature_importances = grid_search.best_estimator_.feature_importances_\n",
        "print(feature_importances)"
      ],
      "execution_count": 26,
      "outputs": [
        {
          "output_type": "stream",
          "name": "stdout",
          "text": [
            "[0.12489495 0.11054329 0.01099167 0.0030391  0.66733393 0.00298676\n",
            " 0.00130525 0.0013544  0.00132022 0.07623042]\n"
          ]
        }
      ]
    },
    {
      "cell_type": "markdown",
      "metadata": {
        "id": "ZRBvOceu2MEB"
      },
      "source": [
        "Vamos exibir esses scores de importância ao lado dos nomes de atributos correspondentes."
      ]
    },
    {
      "cell_type": "code",
      "metadata": {
        "colab": {
          "base_uri": "https://localhost:8080/"
        },
        "id": "tNFar3oC2JQS",
        "outputId": "a14b3bb3-3426-4270-d665-78d306755e36"
      },
      "source": [
        "# scores de importância com os atributos correspondentes\n",
        "attributes = X_val\n",
        "sorted(zip(feature_importances, attributes), reverse = True)"
      ],
      "execution_count": 27,
      "outputs": [
        {
          "output_type": "execute_result",
          "data": {
            "text/plain": [
              "[(0.6673339330022654, 'smoker'),\n",
              " (0.12489494948176119, 'age'),\n",
              " (0.11054329358092072, 'bmi'),\n",
              " (0.07623041504783111, 'weight_Condition'),\n",
              " (0.010991667830030598, 'children'),\n",
              " (0.003039103664910922, 'sex'),\n",
              " (0.0029867587479096157, 'region_northeast'),\n",
              " (0.001354403774155868, 'region_southeast'),\n",
              " (0.0013202205814775336, 'region_southwest'),\n",
              " (0.0013052542887369296, 'region_northwest')]"
            ]
          },
          "metadata": {},
          "execution_count": 27
        }
      ]
    },
    {
      "cell_type": "markdown",
      "metadata": {
        "id": "aRIg-9Z54gi_"
      },
      "source": [
        "Com essa informação em mãos, você pode tentar descartar algumas das variáveis menos úteis. Você também deve analisar os erros específicos cometidos pelo sistema, depois tentar compreender porque ele comete tais erros e o que poderia solucionar o problema (feature engineering, descartar as variáveis não informativas, limpar outliers, escalonar a variável alvo, etc.).\n",
        "\n",
        "Vale ressaltar uma informação interessante aqui. Vimos acima métodos de otimização de hiperparâmetros, mas uma outra forma de fazer esse trabalho é: **conhecendo bem o seu negócio, você pode otimizar hiperparâmetros específicos com o seu conhecimento sobre a área.**"
      ]
    },
    {
      "cell_type": "markdown",
      "metadata": {
        "id": "S2EA7OmL5FSH"
      },
      "source": [
        "## 7 - Avalie seu modelo no conjunto de teste\n",
        "Depois de ajustar seus modelos por um tempo, você finalmente terá um modelo com desempenho suficiente. Agora, é hora de avaliar o modelo final no conjunto de testes."
      ]
    },
    {
      "cell_type": "code",
      "metadata": {
        "id": "Xe2LJp5w33_E"
      },
      "source": [
        "# Cópia do conjunto de teste\n",
        "insurance_test = test_set.copy()\n",
        "\n",
        "# Avaliar o modelo final no conjunto de teste\n",
        "final_model = grid_search.best_estimator_\n",
        "\n",
        "# Separar os dados entre feature matrix e target vector\n",
        "X_test = insurance_test.drop('charges', axis=1)\n",
        "y_test = insurance_test['charges']"
      ],
      "execution_count": 28,
      "outputs": []
    },
    {
      "cell_type": "code",
      "metadata": {
        "colab": {
          "base_uri": "https://localhost:8080/"
        },
        "id": "AlQz0-xG9CIu",
        "outputId": "9ceb43d9-f66a-457e-de28-5c2cb1e0db80"
      },
      "source": [
        "# Aplicar funções feitas na etapa de limpeza dos dados\n",
        "# Transformando as variáveis qualitativas categóricas\n",
        "X_test = pd.get_dummies(X_test)\n",
        "\n",
        "# Excluindo uma das variáveis redundantes\n",
        "X_test = X_test.drop(['sex_female', 'smoker_no'], axis=1)\n",
        "X_test.rename(columns={'sex_male': 'sex', 'smoker_yes': 'smoker'}, inplace=True)\n",
        "\n",
        "# Agora temos apenas uma coluna 'sex' e 'smoker'\n",
        "# Para a coluna sexo, male = 1 and female = 0\n",
        "# Para a coluna fumante, smoker = 1 and non-smoker = 0\n",
        "\n",
        "# Eliminar outliers\n",
        "numerical_cols = ['bmi']\n",
        "for col in numerical_cols:\n",
        "  exclui_outliers(X_test, col)\n",
        "\n",
        "# Substituir os valores ausentes pela mediana utilizando a função 'imputer'\n",
        "imputer = SimpleImputer(strategy = 'median')\n",
        "imputer.fit(X_test)\n",
        "print(imputer.statistics_)\n",
        "X_input = imputer.transform(X_test)\n",
        "X_test = pd.DataFrame(X_input, columns = X_test.columns,\n",
        "                      index = X_test.index)\n",
        "\n",
        "# Função que trocará a variável 'bmi' para categórica\n",
        "X_test[\"weight_Condition\"] = [weightCondition(val) for val in X_test[\"bmi\"]]\n",
        "X_test = encoder.fit_transform(X_test)\n",
        "\n",
        "# Escalonamento das variáveis\n",
        "scaler = preprocessing.StandardScaler().fit(X_test)\n",
        "X_test_scaled = scaler.transform(X_test)\n",
        "X_test_scaled"
      ],
      "execution_count": 29,
      "outputs": [
        {
          "output_type": "stream",
          "name": "stdout",
          "text": [
            "[38.   30.78  1.    0.    0.    0.    0.    0.    0.  ]\n"
          ]
        },
        {
          "output_type": "execute_result",
          "data": {
            "text/plain": [
              "array([[ 0.45859585, -0.94511338,  0.82250933, ..., -0.65814518,\n",
              "        -0.54284988, -0.45528431],\n",
              "       [-0.18713281, -0.15809875, -0.89961958, ..., -0.65814518,\n",
              "        -0.54284988,  0.77720251],\n",
              "       [ 1.82180078, -0.66734351, -0.89961958, ..., -0.65814518,\n",
              "        -0.54284988, -0.45528431],\n",
              "       ...,\n",
              "       [-0.04363755, -0.4821636 , -0.03855512, ..., -0.65814518,\n",
              "        -0.54284988, -0.45528431],\n",
              "       [ 1.1043245 ,  2.66670715, -0.89961958, ...,  1.51942159,\n",
              "        -0.54284988,  0.77720251],\n",
              "       [ 0.88908162,  0.52089427, -0.03855512, ..., -0.65814518,\n",
              "         1.84212991,  0.77720251]])"
            ]
          },
          "metadata": {},
          "execution_count": 29
        }
      ]
    },
    {
      "cell_type": "code",
      "metadata": {
        "colab": {
          "base_uri": "https://localhost:8080/"
        },
        "id": "BXLffoXO-icd",
        "outputId": "f34bfaab-cd3b-4de3-e26f-5530dfc06c84"
      },
      "source": [
        "# Fazer predições com os dados de teste\n",
        "final_predictions = final_model.predict(X_test_scaled)\n",
        "\n",
        "# Avaliar as predições nos dados de teste\n",
        "from sklearn.metrics import mean_squared_error\n",
        "final_mse = mean_squared_error(y_test, final_predictions)\n",
        "final_rmse = np.sqrt(final_mse)\n",
        "print(final_rmse)"
      ],
      "execution_count": 30,
      "outputs": [
        {
          "output_type": "stream",
          "name": "stdout",
          "text": [
            "4422.080606269094\n"
          ]
        }
      ]
    },
    {
      "cell_type": "markdown",
      "metadata": {
        "id": "aJzFgPVMCGaP"
      },
      "source": [
        "Em alguns casos, essa estimativa pontual do erro de generalização não será o bastante para convencê-lo a implementar. E se for apenas 0,1% melhor do que o modelo atualmente em produção? Você pode ter uma ideia da precisão dessa estimativa. Para isso, é possível calcular um intervalo de confiança de 95% para o erro de generalização."
      ]
    },
    {
      "cell_type": "code",
      "metadata": {
        "colab": {
          "base_uri": "https://localhost:8080/"
        },
        "id": "1qki_RDkCf9m",
        "outputId": "9d5ebbdf-0f85-46a4-feff-82f93f6b8591"
      },
      "source": [
        "# Intervalo de confiança para o erro de generalização\n",
        "from scipy import stats\n",
        "confidence = 0.95\n",
        "squared_errors = (final_predictions - y_test) ** 2\n",
        "np.sqrt(stats.t.interval(confidence, len(squared_errors) - 1,\n",
        "                         loc = squared_errors.mean(),\n",
        "                         scale = stats.sem(squared_errors)))"
      ],
      "execution_count": 31,
      "outputs": [
        {
          "output_type": "execute_result",
          "data": {
            "text/plain": [
              "array([3469.67176708, 5202.97718671])"
            ]
          },
          "metadata": {},
          "execution_count": 31
        }
      ]
    },
    {
      "cell_type": "markdown",
      "metadata": {
        "id": "IDu0Ll0lDIJR"
      },
      "source": [
        "Esse é o intervalo de confiança do desempenho do nosso modelo em estudo.\n",
        "\n",
        "Se você fez muito ajustes de hiperparâmetro, o desempenho geralmente será um pouco pior do que o que calculou usando a validação cruzada (porque seu modelo acaba sendo aperfeiçoado para ter um bom desempenho no conjunto de validação e provavelmente não terá um bom desempenho em um conjunto de dados desconhecido).\n",
        "\n",
        "Não foi o caso desse exemplo, mas quando isso ocorre, você deve resistir a tentação de ajustar os hiperparâmetros para fazer com que os números pareçam bons no conjunto de teste. **É improvável que as melhorias façam generalizações para os dados novos.**"
      ]
    },
    {
      "cell_type": "markdown",
      "metadata": {
        "id": "47DSZGcZD4vw"
      },
      "source": [
        "### 7.1 - Pré-lançamento do projeto\n",
        "Agora você precisa apresentar sua solução, ressaltando o que aprendeu, o que funcionou e o que não funcionou, quais suposições foram feitas e quais são as limitações do seu sistema.\n",
        "\n",
        "É interessante documentar tudo e elaborar apresentações legais com visualizações claras.\n",
        "\n",
        "<center><img src=\"https://image.freepik.com/free-vector/site-stats-concept-illustration_114360-1434.jpg\" height=\"300\"></center>\n",
        "\n",
        "Se achar necessário você deve realizar novos ciclos do projeto (passando por todas as etapas feitas aqui novamente) a nível de tentar melhorar ainda mais o desempenho do modelo, isso é possível, pois, você notou que aprendemos muito até aqui e ainda podem ser feitos muitos outros testes.\n",
        "\n",
        "Por fim, a ideia agora é implementar, monitorar e fazer a manutenção do seu modelo, etapa que não iremos detalhar aqui."
      ]
    },
    {
      "cell_type": "markdown",
      "metadata": {
        "id": "MDwGKgrVHsxo"
      },
      "source": [
        "# Conclusão\n",
        "Passamos aqui por todas as etapas de um projeto de ciência de dados que foram:    \n",
        "\n",
        "1. Analisar o panorama geral - Entendendo o problema do negócio;\n",
        "2. Obter os dados;\n",
        "3. Análise Exploratória dos dados;\n",
        "4. Limpeza e preparação dos dados;\n",
        "5. Selecionar e treinar um modelo de machine learning;\n",
        "6. Aperfeiçoar o modelo;\n",
        "7. Avaliação do modelo no conjunto de teste e apresentar a solução.\n",
        "\n",
        "Ressalto que, o que foi feito aqui, não necessariamente servirá cem por cento para seu projeto, mas pode servir como uma espécie de guia. Você deve entender seu problema e adaptar a sua solução a ele, cada caso é um caso.\n",
        "\n",
        "\n",
        "\n"
      ]
    },
    {
      "cell_type": "markdown",
      "metadata": {
        "id": "TrlYH3uAKc-f"
      },
      "source": [
        "# Referências bibliográficas\n",
        "* Mãos a obra: Aprendizado de máquina com scikit-learn, keras e tensor flow, Aurélien Géron;\n",
        "* Estatística: O que é, para que serve, como funciona, Charles Wheelan;"
      ]
    }
  ]
}